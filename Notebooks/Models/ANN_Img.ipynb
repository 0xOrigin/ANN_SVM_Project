{
  "nbformat": 4,
  "nbformat_minor": 0,
  "metadata": {
    "colab": {
      "name": "ANN_Img.ipynb",
      "provenance": [],
      "collapsed_sections": []
    },
    "kernelspec": {
      "name": "python3",
      "display_name": "Python 3"
    },
    "language_info": {
      "name": "python"
    }
  },
  "cells": [
    {
      "cell_type": "code",
      "execution_count": 1,
      "metadata": {
        "colab": {
          "base_uri": "https://localhost:8080/"
        },
        "id": "V3xGtkQMuAeG",
        "outputId": "a670b9e3-28a7-4b0b-924c-1f4a316dd4e1"
      },
      "outputs": [
        {
          "output_type": "stream",
          "name": "stdout",
          "text": [
            "Mounted at /content/drive\n"
          ]
        }
      ],
      "source": [
        "from google.colab import drive\n",
        "drive.mount(\"/content/drive\")"
      ]
    },
    {
      "cell_type": "code",
      "source": [
        "import numpy as np\n",
        "import tensorflow as tf\n",
        "from sklearn.model_selection import train_test_split\n",
        "import pickle\n",
        "\n",
        "pickle_in = open('/content/drive/MyDrive/ML_Results/Preprocessing/X_ANN_Img_Pre.pickle','rb')\n",
        "X = np.array(pickle.load(pickle_in))\n",
        "pickle_in.close()\n",
        "\n",
        "pickle_in = open('/content/drive/MyDrive/ML_Results/Preprocessing/Y_ANN_Img_Pre.pickle','rb')\n",
        "Y = np.array(pickle.load(pickle_in))\n",
        "pickle_in.close()\n",
        "\n",
        "print(\"Number of images in dataset: \" ,len(X))\n",
        "\n",
        "X_train, X_rem, y_train, y_rem = train_test_split(X, Y, train_size=0.8, random_state=0)\n",
        "X_valid, X_test, y_valid, y_test = train_test_split(X_rem, y_rem, test_size=0.5, random_state=0)\n",
        "\n",
        "image_size = X_train.shape[1]\n",
        "input_size = image_size\n",
        "print(\"Number of features in image: \", input_size)\n",
        "\n",
        "X_train=np.reshape(X_train, [-1,input_size])\n",
        "X_train=X_train.astype('float32')/255\n",
        "\n",
        "X_test=np.reshape(X_test, [-1,input_size])\n",
        "X_test=X_test.astype('float32')/255\n",
        "\n",
        "checkpoint = tf.keras.callbacks.ModelCheckpoint(filepath=\"/content/drive/MyDrive/ML_Results_Main/ANN_Img_weights.h5\", verbose=1, save_best_only=True)\n",
        "\n",
        "ann = tf.keras.models.Sequential()\n",
        "ann.add(tf.keras.layers.Dense(units = 256,activation='relu'))\n",
        "ann.add(tf.keras.layers.Dense(units = 128,activation='relu'))\n",
        "ann.add(tf.keras.layers.Dense(units = 1,activation='sigmoid'))\n",
        "ann.compile(optimizer = 'adam', loss = 'mse', metrics = ['accuracy'])\n",
        "\n",
        "history = ann.fit(X_train, y_train, epochs = 50, validation_data=(X_valid, y_valid), callbacks=[checkpoint])\n",
        "\n",
        "y_pred = ann.predict(X_test)\n",
        "y_pred = (y_pred > 0.5)\n",
        "\n",
        "loss,acc = ann.evaluate(X_test,y_test)\n",
        "\n",
        "print()\n",
        "print(\"Loss: \", loss)\n",
        "print(\"Accuracy: \", acc)"
      ],
      "metadata": {
        "id": "mg6S0OmbwQ0b",
        "colab": {
          "base_uri": "https://localhost:8080/"
        },
        "outputId": "18ec9f93-8a42-427f-c7dd-009bf1e937f2"
      },
      "execution_count": 3,
      "outputs": [
        {
          "output_type": "stream",
          "name": "stdout",
          "text": [
            "Number of images in dataset:  12540\n",
            "Number of features in image:  14400\n",
            "Epoch 1/50\n",
            "313/314 [============================>.] - ETA: 0s - loss: 0.1564 - accuracy: 0.7876\n",
            "Epoch 00001: val_loss improved from inf to 0.22652, saving model to /content/drive/MyDrive/ML_Results_Main/ANN_Img_weights.h5\n",
            "314/314 [==============================] - 9s 28ms/step - loss: 0.1564 - accuracy: 0.7877 - val_loss: 0.2265 - val_accuracy: 0.7719\n",
            "Epoch 2/50\n",
            "312/314 [============================>.] - ETA: 0s - loss: 0.1310 - accuracy: 0.8233\n",
            "Epoch 00002: val_loss did not improve from 0.22652\n",
            "314/314 [==============================] - 8s 27ms/step - loss: 0.1309 - accuracy: 0.8235 - val_loss: 0.2275 - val_accuracy: 0.7719\n",
            "Epoch 3/50\n",
            "314/314 [==============================] - ETA: 0s - loss: 0.0974 - accuracy: 0.8725\n",
            "Epoch 00003: val_loss improved from 0.22652 to 0.22033, saving model to /content/drive/MyDrive/ML_Results_Main/ANN_Img_weights.h5\n",
            "314/314 [==============================] - 9s 28ms/step - loss: 0.0974 - accuracy: 0.8725 - val_loss: 0.2203 - val_accuracy: 0.7791\n",
            "Epoch 4/50\n",
            "312/314 [============================>.] - ETA: 0s - loss: 0.0564 - accuracy: 0.9326\n",
            "Epoch 00004: val_loss did not improve from 0.22033\n",
            "314/314 [==============================] - 8s 26ms/step - loss: 0.0563 - accuracy: 0.9327 - val_loss: 0.2226 - val_accuracy: 0.7767\n",
            "Epoch 5/50\n",
            "312/314 [============================>.] - ETA: 0s - loss: 0.0303 - accuracy: 0.9657\n",
            "Epoch 00005: val_loss improved from 0.22033 to 0.20970, saving model to /content/drive/MyDrive/ML_Results_Main/ANN_Img_weights.h5\n",
            "314/314 [==============================] - 9s 29ms/step - loss: 0.0304 - accuracy: 0.9656 - val_loss: 0.2097 - val_accuracy: 0.7895\n",
            "Epoch 6/50\n",
            "313/314 [============================>.] - ETA: 0s - loss: 0.0179 - accuracy: 0.9804\n",
            "Epoch 00006: val_loss did not improve from 0.20970\n",
            "314/314 [==============================] - 8s 26ms/step - loss: 0.0179 - accuracy: 0.9805 - val_loss: 0.2122 - val_accuracy: 0.7871\n",
            "Epoch 7/50\n",
            "313/314 [============================>.] - ETA: 0s - loss: 0.0120 - accuracy: 0.9878\n",
            "Epoch 00007: val_loss improved from 0.20970 to 0.19668, saving model to /content/drive/MyDrive/ML_Results_Main/ANN_Img_weights.h5\n",
            "314/314 [==============================] - 9s 29ms/step - loss: 0.0121 - accuracy: 0.9877 - val_loss: 0.1967 - val_accuracy: 0.8030\n",
            "Epoch 8/50\n",
            "312/314 [============================>.] - ETA: 0s - loss: 0.0110 - accuracy: 0.9878\n",
            "Epoch 00008: val_loss did not improve from 0.19668\n",
            "314/314 [==============================] - 8s 26ms/step - loss: 0.0110 - accuracy: 0.9877 - val_loss: 0.2104 - val_accuracy: 0.7895\n",
            "Epoch 9/50\n",
            "314/314 [==============================] - ETA: 0s - loss: 0.0091 - accuracy: 0.9901\n",
            "Epoch 00009: val_loss did not improve from 0.19668\n",
            "314/314 [==============================] - 8s 27ms/step - loss: 0.0091 - accuracy: 0.9901 - val_loss: 0.2086 - val_accuracy: 0.7911\n",
            "Epoch 10/50\n",
            "312/314 [============================>.] - ETA: 0s - loss: 0.0083 - accuracy: 0.9916\n",
            "Epoch 00010: val_loss did not improve from 0.19668\n",
            "314/314 [==============================] - 8s 26ms/step - loss: 0.0083 - accuracy: 0.9916 - val_loss: 0.2018 - val_accuracy: 0.7982\n",
            "Epoch 11/50\n",
            "314/314 [==============================] - ETA: 0s - loss: 0.0094 - accuracy: 0.9889\n",
            "Epoch 00011: val_loss did not improve from 0.19668\n",
            "314/314 [==============================] - 8s 26ms/step - loss: 0.0094 - accuracy: 0.9889 - val_loss: 0.2265 - val_accuracy: 0.7735\n",
            "Epoch 12/50\n",
            "313/314 [============================>.] - ETA: 0s - loss: 0.0092 - accuracy: 0.9896\n",
            "Epoch 00012: val_loss did not improve from 0.19668\n",
            "314/314 [==============================] - 9s 28ms/step - loss: 0.0092 - accuracy: 0.9896 - val_loss: 0.2073 - val_accuracy: 0.7927\n",
            "Epoch 13/50\n",
            "313/314 [============================>.] - ETA: 0s - loss: 0.0067 - accuracy: 0.9932\n",
            "Epoch 00013: val_loss did not improve from 0.19668\n",
            "314/314 [==============================] - 8s 26ms/step - loss: 0.0067 - accuracy: 0.9932 - val_loss: 0.2138 - val_accuracy: 0.7863\n",
            "Epoch 14/50\n",
            "312/314 [============================>.] - ETA: 0s - loss: 0.0115 - accuracy: 0.9865\n",
            "Epoch 00014: val_loss did not improve from 0.19668\n",
            "314/314 [==============================] - 8s 26ms/step - loss: 0.0115 - accuracy: 0.9864 - val_loss: 0.2285 - val_accuracy: 0.7711\n",
            "Epoch 15/50\n",
            "312/314 [============================>.] - ETA: 0s - loss: 0.0096 - accuracy: 0.9890\n",
            "Epoch 00015: val_loss did not improve from 0.19668\n",
            "314/314 [==============================] - 8s 26ms/step - loss: 0.0098 - accuracy: 0.9888 - val_loss: 0.2284 - val_accuracy: 0.7711\n",
            "Epoch 16/50\n",
            "314/314 [==============================] - ETA: 0s - loss: 0.0081 - accuracy: 0.9909\n",
            "Epoch 00016: val_loss did not improve from 0.19668\n",
            "314/314 [==============================] - 8s 26ms/step - loss: 0.0081 - accuracy: 0.9909 - val_loss: 0.2073 - val_accuracy: 0.7927\n",
            "Epoch 17/50\n",
            "312/314 [============================>.] - ETA: 0s - loss: 0.0098 - accuracy: 0.9889\n",
            "Epoch 00017: val_loss did not improve from 0.19668\n",
            "314/314 [==============================] - 8s 26ms/step - loss: 0.0098 - accuracy: 0.9889 - val_loss: 0.2368 - val_accuracy: 0.7632\n",
            "Epoch 18/50\n",
            "313/314 [============================>.] - ETA: 0s - loss: 0.0073 - accuracy: 0.9919\n",
            "Epoch 00018: val_loss did not improve from 0.19668\n",
            "314/314 [==============================] - 8s 26ms/step - loss: 0.0074 - accuracy: 0.9918 - val_loss: 0.2305 - val_accuracy: 0.7695\n",
            "Epoch 19/50\n",
            "313/314 [============================>.] - ETA: 0s - loss: 0.0089 - accuracy: 0.9892\n",
            "Epoch 00019: val_loss did not improve from 0.19668\n",
            "314/314 [==============================] - 8s 27ms/step - loss: 0.0088 - accuracy: 0.9892 - val_loss: 0.2291 - val_accuracy: 0.7703\n",
            "Epoch 20/50\n",
            "312/314 [============================>.] - ETA: 0s - loss: 0.0063 - accuracy: 0.9932\n",
            "Epoch 00020: val_loss did not improve from 0.19668\n",
            "314/314 [==============================] - 8s 26ms/step - loss: 0.0064 - accuracy: 0.9931 - val_loss: 0.2441 - val_accuracy: 0.7560\n",
            "Epoch 21/50\n",
            "313/314 [============================>.] - ETA: 0s - loss: 0.0061 - accuracy: 0.9935\n",
            "Epoch 00021: val_loss did not improve from 0.19668\n",
            "314/314 [==============================] - 9s 27ms/step - loss: 0.0061 - accuracy: 0.9934 - val_loss: 0.2265 - val_accuracy: 0.7735\n",
            "Epoch 22/50\n",
            "313/314 [============================>.] - ETA: 0s - loss: 0.0059 - accuracy: 0.9935\n",
            "Epoch 00022: val_loss did not improve from 0.19668\n",
            "314/314 [==============================] - 8s 26ms/step - loss: 0.0059 - accuracy: 0.9935 - val_loss: 0.2307 - val_accuracy: 0.7687\n",
            "Epoch 23/50\n",
            "314/314 [==============================] - ETA: 0s - loss: 0.0058 - accuracy: 0.9939\n",
            "Epoch 00023: val_loss did not improve from 0.19668\n",
            "314/314 [==============================] - 8s 26ms/step - loss: 0.0058 - accuracy: 0.9939 - val_loss: 0.2408 - val_accuracy: 0.7592\n",
            "Epoch 24/50\n",
            "314/314 [==============================] - ETA: 0s - loss: 0.0056 - accuracy: 0.9942\n",
            "Epoch 00024: val_loss did not improve from 0.19668\n",
            "314/314 [==============================] - 8s 26ms/step - loss: 0.0056 - accuracy: 0.9942 - val_loss: 0.2255 - val_accuracy: 0.7743\n",
            "Epoch 25/50\n",
            "313/314 [============================>.] - ETA: 0s - loss: 0.0073 - accuracy: 0.9919\n",
            "Epoch 00025: val_loss did not improve from 0.19668\n",
            "314/314 [==============================] - 9s 27ms/step - loss: 0.0073 - accuracy: 0.9919 - val_loss: 0.2152 - val_accuracy: 0.7847\n",
            "Epoch 26/50\n",
            "314/314 [==============================] - ETA: 0s - loss: 0.0085 - accuracy: 0.9902\n",
            "Epoch 00026: val_loss did not improve from 0.19668\n",
            "314/314 [==============================] - 8s 26ms/step - loss: 0.0085 - accuracy: 0.9902 - val_loss: 0.2476 - val_accuracy: 0.7520\n",
            "Epoch 27/50\n",
            "312/314 [============================>.] - ETA: 0s - loss: 0.0074 - accuracy: 0.9916\n",
            "Epoch 00027: val_loss did not improve from 0.19668\n",
            "314/314 [==============================] - 8s 26ms/step - loss: 0.0075 - accuracy: 0.9915 - val_loss: 0.2313 - val_accuracy: 0.7687\n",
            "Epoch 28/50\n",
            "313/314 [============================>.] - ETA: 0s - loss: 0.0068 - accuracy: 0.9926\n",
            "Epoch 00028: val_loss did not improve from 0.19668\n",
            "314/314 [==============================] - 8s 26ms/step - loss: 0.0069 - accuracy: 0.9925 - val_loss: 0.2233 - val_accuracy: 0.7767\n",
            "Epoch 29/50\n",
            "313/314 [============================>.] - ETA: 0s - loss: 0.0049 - accuracy: 0.9947\n",
            "Epoch 00029: val_loss did not improve from 0.19668\n",
            "314/314 [==============================] - 8s 26ms/step - loss: 0.0049 - accuracy: 0.9947 - val_loss: 0.2273 - val_accuracy: 0.7727\n",
            "Epoch 30/50\n",
            "313/314 [============================>.] - ETA: 0s - loss: 0.0054 - accuracy: 0.9942\n",
            "Epoch 00030: val_loss did not improve from 0.19668\n",
            "314/314 [==============================] - 8s 26ms/step - loss: 0.0054 - accuracy: 0.9942 - val_loss: 0.2200 - val_accuracy: 0.7799\n",
            "Epoch 31/50\n",
            "314/314 [==============================] - ETA: 0s - loss: 0.0054 - accuracy: 0.9941\n",
            "Epoch 00031: val_loss did not improve from 0.19668\n",
            "314/314 [==============================] - 8s 26ms/step - loss: 0.0054 - accuracy: 0.9941 - val_loss: 0.2356 - val_accuracy: 0.7640\n",
            "Epoch 32/50\n",
            "313/314 [============================>.] - ETA: 0s - loss: 0.0063 - accuracy: 0.9930\n",
            "Epoch 00032: val_loss did not improve from 0.19668\n",
            "314/314 [==============================] - 8s 27ms/step - loss: 0.0063 - accuracy: 0.9930 - val_loss: 0.2347 - val_accuracy: 0.7648\n",
            "Epoch 33/50\n",
            "312/314 [============================>.] - ETA: 0s - loss: 0.0077 - accuracy: 0.9915\n",
            "Epoch 00033: val_loss did not improve from 0.19668\n",
            "314/314 [==============================] - 8s 26ms/step - loss: 0.0078 - accuracy: 0.9914 - val_loss: 0.2257 - val_accuracy: 0.7743\n",
            "Epoch 34/50\n",
            "313/314 [============================>.] - ETA: 0s - loss: 0.0057 - accuracy: 0.9936\n",
            "Epoch 00034: val_loss did not improve from 0.19668\n",
            "314/314 [==============================] - 8s 27ms/step - loss: 0.0057 - accuracy: 0.9936 - val_loss: 0.2280 - val_accuracy: 0.7719\n",
            "Epoch 35/50\n",
            "313/314 [============================>.] - ETA: 0s - loss: 0.0044 - accuracy: 0.9956\n",
            "Epoch 00035: val_loss did not improve from 0.19668\n",
            "314/314 [==============================] - 8s 27ms/step - loss: 0.0044 - accuracy: 0.9956 - val_loss: 0.2178 - val_accuracy: 0.7823\n",
            "Epoch 36/50\n",
            "314/314 [==============================] - ETA: 0s - loss: 0.0047 - accuracy: 0.9949\n",
            "Epoch 00036: val_loss did not improve from 0.19668\n",
            "314/314 [==============================] - 8s 27ms/step - loss: 0.0047 - accuracy: 0.9949 - val_loss: 0.2193 - val_accuracy: 0.7807\n",
            "Epoch 37/50\n",
            "312/314 [============================>.] - ETA: 0s - loss: 0.0058 - accuracy: 0.9939\n",
            "Epoch 00037: val_loss did not improve from 0.19668\n",
            "314/314 [==============================] - 9s 27ms/step - loss: 0.0058 - accuracy: 0.9939 - val_loss: 0.2408 - val_accuracy: 0.7592\n",
            "Epoch 38/50\n",
            "312/314 [============================>.] - ETA: 0s - loss: 0.0057 - accuracy: 0.9939\n",
            "Epoch 00038: val_loss did not improve from 0.19668\n",
            "314/314 [==============================] - 8s 27ms/step - loss: 0.0057 - accuracy: 0.9939 - val_loss: 0.2369 - val_accuracy: 0.7632\n",
            "Epoch 39/50\n",
            "312/314 [============================>.] - ETA: 0s - loss: 0.0059 - accuracy: 0.9939\n",
            "Epoch 00039: val_loss did not improve from 0.19668\n",
            "314/314 [==============================] - 8s 26ms/step - loss: 0.0059 - accuracy: 0.9939 - val_loss: 0.2312 - val_accuracy: 0.7687\n",
            "Epoch 40/50\n",
            "313/314 [============================>.] - ETA: 0s - loss: 0.0052 - accuracy: 0.9947\n",
            "Epoch 00040: val_loss did not improve from 0.19668\n",
            "314/314 [==============================] - 9s 27ms/step - loss: 0.0052 - accuracy: 0.9947 - val_loss: 0.2193 - val_accuracy: 0.7807\n",
            "Epoch 41/50\n",
            "312/314 [============================>.] - ETA: 0s - loss: 0.0047 - accuracy: 0.9953\n",
            "Epoch 00041: val_loss did not improve from 0.19668\n",
            "314/314 [==============================] - 8s 26ms/step - loss: 0.0046 - accuracy: 0.9953 - val_loss: 0.2209 - val_accuracy: 0.7791\n",
            "Epoch 42/50\n",
            "312/314 [============================>.] - ETA: 0s - loss: 0.0043 - accuracy: 0.9956\n",
            "Epoch 00042: val_loss did not improve from 0.19668\n",
            "314/314 [==============================] - 8s 26ms/step - loss: 0.0044 - accuracy: 0.9955 - val_loss: 0.2161 - val_accuracy: 0.7839\n",
            "Epoch 43/50\n",
            "312/314 [============================>.] - ETA: 0s - loss: 0.0048 - accuracy: 0.9948\n",
            "Epoch 00043: val_loss did not improve from 0.19668\n",
            "314/314 [==============================] - 8s 27ms/step - loss: 0.0048 - accuracy: 0.9948 - val_loss: 0.2225 - val_accuracy: 0.7775\n",
            "Epoch 44/50\n",
            "313/314 [============================>.] - ETA: 0s - loss: 0.0065 - accuracy: 0.9926\n",
            "Epoch 00044: val_loss did not improve from 0.19668\n",
            "314/314 [==============================] - 8s 27ms/step - loss: 0.0065 - accuracy: 0.9926 - val_loss: 0.2339 - val_accuracy: 0.7656\n",
            "Epoch 45/50\n",
            "313/314 [============================>.] - ETA: 0s - loss: 0.0057 - accuracy: 0.9939\n",
            "Epoch 00045: val_loss did not improve from 0.19668\n",
            "314/314 [==============================] - 8s 27ms/step - loss: 0.0058 - accuracy: 0.9938 - val_loss: 0.2543 - val_accuracy: 0.7456\n",
            "Epoch 46/50\n",
            "313/314 [============================>.] - ETA: 0s - loss: 0.0051 - accuracy: 0.9947\n",
            "Epoch 00046: val_loss did not improve from 0.19668\n",
            "314/314 [==============================] - 8s 27ms/step - loss: 0.0051 - accuracy: 0.9947 - val_loss: 0.2257 - val_accuracy: 0.7743\n",
            "Epoch 47/50\n",
            "312/314 [============================>.] - ETA: 0s - loss: 0.0039 - accuracy: 0.9960\n",
            "Epoch 00047: val_loss did not improve from 0.19668\n",
            "314/314 [==============================] - 8s 27ms/step - loss: 0.0041 - accuracy: 0.9958 - val_loss: 0.2296 - val_accuracy: 0.7703\n",
            "Epoch 48/50\n",
            "313/314 [============================>.] - ETA: 0s - loss: 0.0040 - accuracy: 0.9960\n",
            "Epoch 00048: val_loss did not improve from 0.19668\n",
            "314/314 [==============================] - 9s 27ms/step - loss: 0.0040 - accuracy: 0.9960 - val_loss: 0.2249 - val_accuracy: 0.7751\n",
            "Epoch 49/50\n",
            "312/314 [============================>.] - ETA: 0s - loss: 0.0039 - accuracy: 0.9961\n",
            "Epoch 00049: val_loss did not improve from 0.19668\n",
            "314/314 [==============================] - 8s 26ms/step - loss: 0.0040 - accuracy: 0.9960 - val_loss: 0.2249 - val_accuracy: 0.7751\n",
            "Epoch 50/50\n",
            "312/314 [============================>.] - ETA: 0s - loss: 0.0040 - accuracy: 0.9960\n",
            "Epoch 00050: val_loss did not improve from 0.19668\n",
            "314/314 [==============================] - 8s 27ms/step - loss: 0.0040 - accuracy: 0.9960 - val_loss: 0.2249 - val_accuracy: 0.7751\n",
            "40/40 [==============================] - 1s 10ms/step - loss: 0.1936 - accuracy: 0.7951\n",
            "\n",
            "Loss:  0.19355246424674988\n",
            "Accuracy:  0.7950558066368103\n"
          ]
        }
      ]
    },
    {
      "cell_type": "code",
      "source": [
        "import matplotlib.pyplot as plt\n",
        "from sklearn.metrics import confusion_matrix, accuracy_score, classification_report, roc_curve, auc, roc_auc_score"
      ],
      "metadata": {
        "id": "mQhJqUTvaZQH"
      },
      "execution_count": 4,
      "outputs": []
    },
    {
      "cell_type": "code",
      "source": [
        "print(\"Classification report for classifier %s:\\n%s\\n\" % (\n",
        "    ann, classification_report(y_test, y_pred)))\n"
      ],
      "metadata": {
        "colab": {
          "base_uri": "https://localhost:8080/"
        },
        "id": "hZzVZB_FaemI",
        "outputId": "d81cb05d-c070-44b0-f8d5-26aea55528ef"
      },
      "execution_count": 5,
      "outputs": [
        {
          "output_type": "stream",
          "name": "stdout",
          "text": [
            "Classification report for classifier <keras.engine.sequential.Sequential object at 0x7f8aef687790>:\n",
            "              precision    recall  f1-score   support\n",
            "\n",
            "           0       0.76      0.55      0.64       413\n",
            "           1       0.81      0.92      0.86       841\n",
            "\n",
            "    accuracy                           0.80      1254\n",
            "   macro avg       0.78      0.73      0.75      1254\n",
            "weighted avg       0.79      0.80      0.79      1254\n",
            "\n",
            "\n"
          ]
        }
      ]
    },
    {
      "cell_type": "code",
      "source": [
        "################# Confusion matrix\n",
        "y_pred = ann.predict(X_test)\n",
        "y_pred = (y_pred > 0.5)\n",
        "cm = confusion_matrix(y_test, y_pred)\n",
        "print(\"Confusion matrix\")\n",
        "print(cm)\n",
        "\n",
        "################ Accuracy\n",
        "print()\n",
        "print(\"Model accuracy: \", accuracy_score(y_test, y_pred))"
      ],
      "metadata": {
        "id": "RvFPrrbWCZLh",
        "colab": {
          "base_uri": "https://localhost:8080/"
        },
        "outputId": "71a24d61-9db5-45ef-f992-bb1f993a58b8"
      },
      "execution_count": 6,
      "outputs": [
        {
          "output_type": "stream",
          "name": "stdout",
          "text": [
            "Confusion matrix\n",
            "[[227 186]\n",
            " [ 71 770]]\n",
            "\n",
            "Model accuracy:  0.7950558213716108\n"
          ]
        }
      ]
    },
    {
      "cell_type": "code",
      "source": [
        "################### Loss Curve\n",
        "plt.plot(history.history['loss'])\n",
        "plt.plot(history.history['val_loss'])\n",
        "plt.title('Model loss')\n",
        "plt.ylabel('Loss')\n",
        "plt.xlabel('Epoch')\n",
        "plt.legend(['Training loss', 'Validation loss'], loc='center right')\n",
        "plt.show()"
      ],
      "metadata": {
        "colab": {
          "base_uri": "https://localhost:8080/",
          "height": 295
        },
        "id": "ts0jFChVaykQ",
        "outputId": "f5aea4df-25c8-4604-8712-8844a0c26853"
      },
      "execution_count": 7,
      "outputs": [
        {
          "output_type": "display_data",
          "data": {
            "image/png": "[encoded data removed]",
            "text/plain": [
              "<Figure size 432x288 with 1 Axes>"
            ]
          },
          "metadata": {
            "needs_background": "light"
          }
        }
      ]
    },
    {
      "cell_type": "code",
      "source": [
        "################## ROC Curve\n",
        "y_pred = ann.predict(X_test).ravel()\n",
        "fpr, tpr, _ = roc_curve(y_test,  y_pred)\n",
        "plt.plot(fpr,tpr)\n",
        "auc = roc_auc_score(y_test, y_pred)\n",
        "plt.plot(fpr,tpr,label=\"AUC=\"+str(auc))\n",
        "plt.title('ROC Curve')\n",
        "plt.ylabel('True Positive Rate')\n",
        "plt.xlabel('False Positive Rate')\n",
        "plt.legend(loc=4)\n",
        "plt.show()"
      ],
      "metadata": {
        "colab": {
          "base_uri": "https://localhost:8080/",
          "height": 295
        },
        "id": "7dKFffQ2a129",
        "outputId": "97ee6d80-ab7b-4364-842c-162b77810c4e"
      },
      "execution_count": 8,
      "outputs": [
        {
          "output_type": "display_data",
          "data": {
            "image/png": "[encoded data removed]",
            "text/plain": [
              "<Figure size 432x288 with 1 Axes>"
            ]
          },
          "metadata": {
            "needs_background": "light"
          }
        }
      ]
    },
    {
      "cell_type": "code",
      "source": [
        "##################### To predict from outside image\n",
        "import cv2\n",
        "def ANN_img_preprocessing(img):\n",
        "  image = cv2.imread(img)\n",
        "  gray = cv2.cvtColor(image, cv2.COLOR_BGR2GRAY)\n",
        "  resized_gray = cv2.resize(gray, (120,120))\n",
        "  edged_gray = cv2.Canny(resized_gray, 100, 200)\n",
        "  edged_gray = np.array(edged_gray).flatten()\n",
        "  return edged_gray\n",
        "\n",
        "fileimg = ANN_img_preprocessing(\"/content/drive/MyDrive/C-NMC_Leukemia/testing_data/C-NMC_test_final_phase_data/64.bmp\")\n",
        "\n",
        "fileimg = np.reshape(fileimg, [-1,input_size])\n",
        "fileimg = fileimg.astype('float32')/255\n",
        "\n",
        "y_pred = ann.predict(fileimg)\n",
        "y_pred = (y_pred > 0.5)\n",
        "print(\"Prediction result: \", y_pred)\n"
      ],
      "metadata": {
        "id": "U5QlAk5lEZX8",
        "colab": {
          "base_uri": "https://localhost:8080/"
        },
        "outputId": "1531c526-2680-4c59-97b0-05923e93db62"
      },
      "execution_count": 9,
      "outputs": [
        {
          "output_type": "stream",
          "name": "stdout",
          "text": [
            "Prediction result:  [[ True]]\n"
          ]
        }
      ]
    },
    {
      "cell_type": "code",
      "source": [
        "fileName = \"/content/drive/MyDrive/ML_Results_Main/ANN_Img_79.5.model\"\n",
        "pickle.dump(ann, open(fileName, 'wb'))"
      ],
      "metadata": {
        "colab": {
          "base_uri": "https://localhost:8080/"
        },
        "id": "DK3EOQYvCjO-",
        "outputId": "5c10c103-b4ec-4e0a-fe6d-b65cd2385019"
      },
      "execution_count": 11,
      "outputs": [
        {
          "output_type": "stream",
          "name": "stdout",
          "text": [
            "INFO:tensorflow:Assets written to: ram://af68eb81-accc-47dd-bdb1-3ee1980d20e7/assets\n"
          ]
        }
      ]
    }
  ]
}