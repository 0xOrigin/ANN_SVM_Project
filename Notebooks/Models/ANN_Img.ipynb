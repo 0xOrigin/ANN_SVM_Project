{
  "nbformat": 4,
  "nbformat_minor": 0,
  "metadata": {
    "colab": {
      "name": "ANN_Img.ipynb",
      "provenance": [],
      "collapsed_sections": []
    },
    "kernelspec": {
      "name": "python3",
      "display_name": "Python 3"
    },
    "language_info": {
      "name": "python"
    }
  },
  "cells": [
    {
      "cell_type": "code",
      "execution_count": null,
      "metadata": {
        "colab": {
          "base_uri": "https://localhost:8080/"
        },
        "id": "V3xGtkQMuAeG",
        "outputId": "92b90134-5f54-4543-8a9a-4d9bcdbfab88"
      },
      "outputs": [
        {
          "output_type": "stream",
          "name": "stdout",
          "text": [
            "Mounted at /content/drive\n"
          ]
        }
      ],
      "source": [
        "from google.colab import drive\n",
        "drive.mount(\"/content/drive\")"
      ]
    },
    {
      "cell_type": "code",
      "source": [
        "import numpy as np\n",
        "import tensorflow as tf\n",
        "from sklearn.model_selection import train_test_split\n",
        "import pickle\n",
        "\n",
        "pickle_in = open('/content/drive/MyDrive/ML_Results/Preprocessing/X_ANN_Img_Pre.pickle','rb')\n",
        "X = np.array(pickle.load(pickle_in))\n",
        "pickle_in.close()\n",
        "\n",
        "pickle_in = open('/content/drive/MyDrive/ML_Results/Preprocessing/Y_ANN_Img_Pre.pickle','rb')\n",
        "Y = np.array(pickle.load(pickle_in))\n",
        "pickle_in.close()\n",
        "\n",
        "print(\"Number of images in dataset: \" ,len(X))\n",
        "\n",
        "X_train, X_test, y_train, y_test = train_test_split(X, Y, test_size=0.2, random_state=4)\n",
        "\n",
        "image_size = X_train.shape[1]\n",
        "input_size = image_size\n",
        "print(\"Number of features in image: \", input_size)\n",
        "\n",
        "X_train=np.reshape(X_train, [-1,input_size])\n",
        "X_train=X_train.astype('float32')/255\n",
        "\n",
        "X_test=np.reshape(X_test, [-1,input_size])\n",
        "X_test=X_test.astype('float32')/255\n",
        "\n",
        "checkpoint = tf.keras.callbacks.ModelCheckpoint(filepath=\"/content/drive/MyDrive/ML_Results_Main/ANN_Img_weights.h5\", verbose=1, save_best_only=True)\n",
        "\n",
        "ann = tf.keras.models.Sequential()\n",
        "ann.add(tf.keras.layers.Dense(units = 512,activation='relu'))\n",
        "ann.add(tf.keras.layers.Dense(units = 256,activation='relu'))\n",
        "ann.add(tf.keras.layers.Dense(units = 128,activation='relu'))\n",
        "ann.add(tf.keras.layers.Dense(units = 1,activation='linear'))\n",
        "ann.compile(optimizer = 'adam', loss = 'mean_squared_error', metrics = ['accuracy'])\n",
        "\n",
        "history = ann.fit(X_train, y_train, epochs = 20, batch_size=80, validation_split = 0.2, callbacks=[checkpoint])\n",
        "\n",
        "loss, acc = ann.evaluate(X_test,y_test)\n",
        "\n",
        "print()\n",
        "print(\"Loss: \", loss)\n",
        "print(\"Accuracy: \", acc)"
      ],
      "metadata": {
        "id": "mg6S0OmbwQ0b",
        "colab": {
          "base_uri": "https://localhost:8080/"
        },
        "outputId": "5c5bc3fe-cb08-4f03-a8ef-ceb78d6b8c2c"
      },
      "execution_count": null,
      "outputs": [
        {
          "output_type": "stream",
          "name": "stdout",
          "text": [
            "Number of images in dataset:  12540\n",
            "Number of features in image:  14400\n",
            "Epoch 1/20\n",
            "100/101 [============================>.] - ETA: 0s - loss: 0.1710 - accuracy: 0.7751\n",
            "Epoch 00001: val_loss improved from inf to 0.16454, saving model to /content/drive/MyDrive/ML_Results_Main/ANN_Img_weights.h5\n",
            "101/101 [==============================] - 10s 98ms/step - loss: 0.1707 - accuracy: 0.7755 - val_loss: 0.1645 - val_accuracy: 0.7788\n",
            "Epoch 2/20\n",
            "100/101 [============================>.] - ETA: 0s - loss: 0.1308 - accuracy: 0.8226\n",
            "Epoch 00002: val_loss did not improve from 0.16454\n",
            "101/101 [==============================] - 7s 73ms/step - loss: 0.1309 - accuracy: 0.8226 - val_loss: 0.1763 - val_accuracy: 0.7638\n",
            "Epoch 3/20\n",
            "101/101 [==============================] - ETA: 0s - loss: 0.1011 - accuracy: 0.8714\n",
            "Epoch 00003: val_loss did not improve from 0.16454\n",
            "101/101 [==============================] - 8s 75ms/step - loss: 0.1011 - accuracy: 0.8714 - val_loss: 0.1864 - val_accuracy: 0.7887\n",
            "Epoch 4/20\n",
            "100/101 [============================>.] - ETA: 0s - loss: 0.0655 - accuracy: 0.9356\n",
            "Epoch 00004: val_loss did not improve from 0.16454\n",
            "101/101 [==============================] - 7s 73ms/step - loss: 0.0655 - accuracy: 0.9357 - val_loss: 0.1889 - val_accuracy: 0.7389\n",
            "Epoch 5/20\n",
            "100/101 [============================>.] - ETA: 0s - loss: 0.0323 - accuracy: 0.9787\n",
            "Epoch 00005: val_loss did not improve from 0.16454\n",
            "101/101 [==============================] - 7s 73ms/step - loss: 0.0324 - accuracy: 0.9787 - val_loss: 0.1776 - val_accuracy: 0.7748\n",
            "Epoch 6/20\n",
            "100/101 [============================>.] - ETA: 0s - loss: 0.0164 - accuracy: 0.9946\n",
            "Epoch 00006: val_loss did not improve from 0.16454\n",
            "101/101 [==============================] - 7s 73ms/step - loss: 0.0164 - accuracy: 0.9946 - val_loss: 0.1721 - val_accuracy: 0.7793\n",
            "Epoch 7/20\n",
            "100/101 [============================>.] - ETA: 0s - loss: 0.0084 - accuracy: 0.9975\n",
            "Epoch 00007: val_loss did not improve from 0.16454\n",
            "101/101 [==============================] - 7s 73ms/step - loss: 0.0083 - accuracy: 0.9975 - val_loss: 0.1712 - val_accuracy: 0.7823\n",
            "Epoch 8/20\n",
            "100/101 [============================>.] - ETA: 0s - loss: 0.0038 - accuracy: 0.9990\n",
            "Epoch 00008: val_loss did not improve from 0.16454\n",
            "101/101 [==============================] - 7s 73ms/step - loss: 0.0038 - accuracy: 0.9990 - val_loss: 0.1702 - val_accuracy: 0.7808\n",
            "Epoch 9/20\n",
            "100/101 [============================>.] - ETA: 0s - loss: 0.0023 - accuracy: 0.9995\n",
            "Epoch 00009: val_loss did not improve from 0.16454\n",
            "101/101 [==============================] - 7s 73ms/step - loss: 0.0023 - accuracy: 0.9995 - val_loss: 0.1713 - val_accuracy: 0.7798\n",
            "Epoch 10/20\n",
            "100/101 [============================>.] - ETA: 0s - loss: 0.0015 - accuracy: 0.9994\n",
            "Epoch 00010: val_loss did not improve from 0.16454\n",
            "101/101 [==============================] - 7s 73ms/step - loss: 0.0015 - accuracy: 0.9994 - val_loss: 0.1709 - val_accuracy: 0.7793\n",
            "Epoch 11/20\n",
            "100/101 [============================>.] - ETA: 0s - loss: 9.3946e-04 - accuracy: 0.9998\n",
            "Epoch 00011: val_loss did not improve from 0.16454\n",
            "101/101 [==============================] - 7s 73ms/step - loss: 9.4140e-04 - accuracy: 0.9998 - val_loss: 0.1700 - val_accuracy: 0.7828\n",
            "Epoch 12/20\n",
            "100/101 [============================>.] - ETA: 0s - loss: 7.8062e-04 - accuracy: 0.9996\n",
            "Epoch 00012: val_loss did not improve from 0.16454\n",
            "101/101 [==============================] - 7s 73ms/step - loss: 7.7899e-04 - accuracy: 0.9996 - val_loss: 0.1686 - val_accuracy: 0.7833\n",
            "Epoch 13/20\n",
            "100/101 [============================>.] - ETA: 0s - loss: 5.0261e-04 - accuracy: 0.9999\n",
            "Epoch 00013: val_loss did not improve from 0.16454\n",
            "101/101 [==============================] - 7s 73ms/step - loss: 5.0144e-04 - accuracy: 0.9999 - val_loss: 0.1699 - val_accuracy: 0.7843\n",
            "Epoch 14/20\n",
            "100/101 [============================>.] - ETA: 0s - loss: 3.8562e-04 - accuracy: 1.0000\n",
            "Epoch 00014: val_loss did not improve from 0.16454\n",
            "101/101 [==============================] - 7s 73ms/step - loss: 3.8538e-04 - accuracy: 1.0000 - val_loss: 0.1686 - val_accuracy: 0.7848\n",
            "Epoch 15/20\n",
            "100/101 [============================>.] - ETA: 0s - loss: 3.7173e-04 - accuracy: 0.9999\n",
            "Epoch 00015: val_loss did not improve from 0.16454\n",
            "101/101 [==============================] - 7s 73ms/step - loss: 3.7111e-04 - accuracy: 0.9999 - val_loss: 0.1688 - val_accuracy: 0.7833\n",
            "Epoch 16/20\n",
            "100/101 [============================>.] - ETA: 0s - loss: 3.5906e-04 - accuracy: 1.0000\n",
            "Epoch 00016: val_loss did not improve from 0.16454\n",
            "101/101 [==============================] - 7s 73ms/step - loss: 3.5827e-04 - accuracy: 1.0000 - val_loss: 0.1693 - val_accuracy: 0.7838\n",
            "Epoch 17/20\n",
            "101/101 [==============================] - ETA: 0s - loss: 3.7899e-04 - accuracy: 1.0000\n",
            "Epoch 00017: val_loss did not improve from 0.16454\n",
            "101/101 [==============================] - 7s 74ms/step - loss: 3.7899e-04 - accuracy: 1.0000 - val_loss: 0.1695 - val_accuracy: 0.7848\n",
            "Epoch 18/20\n",
            "100/101 [============================>.] - ETA: 0s - loss: 4.8805e-04 - accuracy: 0.9999\n",
            "Epoch 00018: val_loss did not improve from 0.16454\n",
            "101/101 [==============================] - 7s 73ms/step - loss: 4.8716e-04 - accuracy: 0.9999 - val_loss: 0.1701 - val_accuracy: 0.7823\n",
            "Epoch 19/20\n",
            "101/101 [==============================] - ETA: 0s - loss: 5.6771e-04 - accuracy: 1.0000\n",
            "Epoch 00019: val_loss did not improve from 0.16454\n",
            "101/101 [==============================] - 7s 74ms/step - loss: 5.6771e-04 - accuracy: 1.0000 - val_loss: 0.1683 - val_accuracy: 0.7872\n",
            "Epoch 20/20\n",
            "100/101 [============================>.] - ETA: 0s - loss: 6.5894e-04 - accuracy: 0.9998\n",
            "Epoch 00020: val_loss did not improve from 0.16454\n",
            "101/101 [==============================] - 7s 73ms/step - loss: 6.5862e-04 - accuracy: 0.9998 - val_loss: 0.1698 - val_accuracy: 0.7818\n",
            "79/79 [==============================] - 1s 15ms/step - loss: 0.1600 - accuracy: 0.8022\n",
            "\n",
            "Loss:  0.16002295911312103\n",
            "Accuracy:  0.8022328615188599\n"
          ]
        }
      ]
    },
    {
      "cell_type": "code",
      "source": [
        "import matplotlib.pyplot as plt\n",
        "from sklearn.metrics import confusion_matrix, accuracy_score, classification_report, roc_curve, auc, roc_auc_score"
      ],
      "metadata": {
        "id": "mQhJqUTvaZQH"
      },
      "execution_count": null,
      "outputs": []
    },
    {
      "cell_type": "code",
      "source": [
        "y_pred = ann.predict(X_test)\n",
        "y_pred = (y_pred > 0.5)"
      ],
      "metadata": {
        "id": "boVO1HYV-Hyv"
      },
      "execution_count": null,
      "outputs": []
    },
    {
      "cell_type": "code",
      "source": [
        "print(\"Classification report for classifier %s:\\n%s\\n\" % (\n",
        "    ann, classification_report(y_test, y_pred)))\n"
      ],
      "metadata": {
        "colab": {
          "base_uri": "https://localhost:8080/"
        },
        "id": "hZzVZB_FaemI",
        "outputId": "1d990a23-5037-44da-c042-7ece0fb87f47"
      },
      "execution_count": null,
      "outputs": [
        {
          "output_type": "stream",
          "name": "stdout",
          "text": [
            "Classification report for classifier <keras.engine.sequential.Sequential object at 0x7fcc9840c250>:\n",
            "              precision    recall  f1-score   support\n",
            "\n",
            "           0       0.74      0.59      0.66       802\n",
            "           1       0.82      0.90      0.86      1706\n",
            "\n",
            "    accuracy                           0.80      2508\n",
            "   macro avg       0.78      0.75      0.76      2508\n",
            "weighted avg       0.80      0.80      0.80      2508\n",
            "\n",
            "\n"
          ]
        }
      ]
    },
    {
      "cell_type": "code",
      "source": [
        "################# Confusion matrix\n",
        "cm = confusion_matrix(y_test, y_pred)\n",
        "print(\"Confusion matrix\")\n",
        "print(cm)\n",
        "\n",
        "################ Accuracy\n",
        "print()\n",
        "print(\"Model accuracy: \", accuracy_score(y_test, y_pred))"
      ],
      "metadata": {
        "id": "RvFPrrbWCZLh",
        "colab": {
          "base_uri": "https://localhost:8080/"
        },
        "outputId": "47a5982d-9c1f-44dc-fd81-e086965df4cf"
      },
      "execution_count": null,
      "outputs": [
        {
          "output_type": "stream",
          "name": "stdout",
          "text": [
            "Confusion matrix\n",
            "[[ 472  330]\n",
            " [ 166 1540]]\n",
            "\n",
            "Model accuracy:  0.8022328548644339\n"
          ]
        }
      ]
    },
    {
      "cell_type": "code",
      "source": [
        "################### Loss Curve\n",
        "plt.plot(history.history['loss'])\n",
        "plt.plot(history.history['val_loss'])\n",
        "plt.title('Model loss')\n",
        "plt.ylabel('Loss')\n",
        "plt.xlabel('Epoch')\n",
        "plt.legend(['Training loss', 'Validation loss'], loc='center right')\n",
        "plt.show()"
      ],
      "metadata": {
        "colab": {
          "base_uri": "https://localhost:8080/",
          "height": 295
        },
        "id": "ts0jFChVaykQ",
        "outputId": "d2d1dbd6-1b71-4d15-b0e5-7f8d871bea9c"
      },
      "execution_count": null,
      "outputs": [
        {
          "output_type": "display_data",
          "data": {
            "image/png": "[encoded data removed]",
            "text/plain": [
              "<Figure size 432x288 with 1 Axes>"
            ]
          },
          "metadata": {
            "needs_background": "light"
          }
        }
      ]
    },
    {
      "cell_type": "code",
      "source": [
        "################## ROC Curve\n",
        "y_pred = y_pred.ravel()\n",
        "fpr, tpr, _ = roc_curve(y_test,  y_pred)\n",
        "plt.plot(fpr,tpr)\n",
        "auc = roc_auc_score(y_test, y_pred)\n",
        "plt.plot(fpr,tpr,label=\"AUC=\"+str(auc))\n",
        "plt.title('ROC Curve')\n",
        "plt.ylabel('True Positive Rate')\n",
        "plt.xlabel('False Positive Rate')\n",
        "plt.legend(loc=4)\n",
        "plt.show()"
      ],
      "metadata": {
        "colab": {
          "base_uri": "https://localhost:8080/",
          "height": 295
        },
        "id": "7dKFffQ2a129",
        "outputId": "bd0d4d8b-4bd4-4c50-d01e-dee5f5fa77aa"
      },
      "execution_count": null,
      "outputs": [
        {
          "output_type": "display_data",
          "data": {
            "image/png": "[encoded data removed]",
            "text/plain": [
              "<Figure size 432x288 with 1 Axes>"
            ]
          },
          "metadata": {
            "needs_background": "light"
          }
        }
      ]
    },
    {
      "cell_type": "code",
      "source": [
        "##################### To predict from validation images\n",
        "import tensorflow as tf\n",
        "import cv2\n",
        "import matplotlib.image as mpimg\n",
        "\n",
        "model = tf.keras.models.load_model(\"/content/drive/MyDrive/ML_Results_Main/ANN_Img_80.2\")\n",
        "\n",
        "figure, axis = plt.subplots(1, 2)\n",
        "\n",
        "def ANN_img_preprocessing(img):\n",
        "  image = cv2.imread(img)\n",
        "  gray = cv2.cvtColor(image, cv2.COLOR_BGR2GRAY)\n",
        "  resized_gray = cv2.resize(gray, (120,120))\n",
        "  edged_gray = cv2.Canny(resized_gray, 100, 200)\n",
        "\n",
        "  axis[1].imshow(edged_gray)\n",
        "  axis[1].set_title(\"Pre-processed image\")\n",
        "  \n",
        "  edged_gray = np.array(edged_gray).flatten()\n",
        "  return edged_gray\n",
        "\n",
        "PATH = \"/content/drive/MyDrive/C-NMC_Leukemia/validation_data/C-NMC_test_prelim_phase_data/202.bmp\"\n",
        "\n",
        "\n",
        "img = mpimg.imread(PATH)\n",
        "axis[0].imshow(img)\n",
        "axis[0].set_title(\"Original image\")\n",
        "\n",
        "fileimg = ANN_img_preprocessing(PATH)\n",
        "\n",
        "fileimg = np.reshape(fileimg, [-1,input_size])\n",
        "fileimg = fileimg.astype('float32')/255\n",
        "\n",
        "y_pred = model.predict(fileimg)\n",
        "y_pred = (y_pred > 0.5)\n",
        "\n",
        "print(\"Prediction result: \", y_pred)"
      ],
      "metadata": {
        "id": "U5QlAk5lEZX8",
        "colab": {
          "base_uri": "https://localhost:8080/",
          "height": 233
        },
        "outputId": "d33999ff-c2ef-468d-e68e-198391fd7321"
      },
      "execution_count": null,
      "outputs": [
        {
          "output_type": "stream",
          "name": "stdout",
          "text": [
            "Prediction result:  [[ True]]\n"
          ]
        },
        {
          "output_type": "display_data",
          "data": {
            "image/png": "[encoded data removed]",
            "text/plain": [
              "<Figure size 432x288 with 2 Axes>"
            ]
          },
          "metadata": {
            "needs_background": "light"
          }
        }
      ]
    },
    {
      "cell_type": "code",
      "source": [
        "ann.save(\"/content/drive/MyDrive/ML_Results_Main/ANN_Img_80.2\")"
      ],
      "metadata": {
        "colab": {
          "base_uri": "https://localhost:8080/"
        },
        "id": "DK3EOQYvCjO-",
        "outputId": "99874e7c-c5ec-4a59-b126-7e6ddc160c2f"
      },
      "execution_count": null,
      "outputs": [
        {
          "output_type": "stream",
          "name": "stdout",
          "text": [
            "INFO:tensorflow:Assets written to: /content/drive/MyDrive/ML_Results_Main/ANN_Img_80.2/assets\n"
          ]
        }
      ]
    }
  ]
}