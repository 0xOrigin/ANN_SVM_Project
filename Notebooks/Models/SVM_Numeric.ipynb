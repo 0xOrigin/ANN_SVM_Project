{
  "nbformat": 4,
  "nbformat_minor": 0,
  "metadata": {
    "colab": {
      "name": "SVM_Numeric.ipynb",
      "provenance": [],
      "collapsed_sections": []
    },
    "kernelspec": {
      "name": "python3",
      "display_name": "Python 3"
    },
    "language_info": {
      "name": "python"
    }
  },
  "cells": [
    {
      "cell_type": "code",
      "execution_count": null,
      "metadata": {
        "colab": {
          "base_uri": "https://localhost:8080/"
        },
        "id": "VKUrPo-tEOZX",
        "outputId": "c5cb5902-a7b7-4c43-c74a-f92e8cc109dc"
      },
      "outputs": [
        {
          "output_type": "stream",
          "name": "stdout",
          "text": [
            "Mounted at /content/drive\n"
          ]
        }
      ],
      "source": [
        "from google.colab import drive\n",
        "drive.mount(\"/content/drive\")"
      ]
    },
    {
      "cell_type": "code",
      "source": [
        "import numpy as np\n",
        "import tensorflow as tf\n",
        "import pandas as pd\n",
        "from sklearn.svm import SVC\n",
        "from sklearn.model_selection import train_test_split\n",
        "from sklearn.preprocessing import StandardScaler\n",
        "\n",
        "\n",
        "df = pd.read_csv(\"/content/drive/MyDrive/ML_Results/preprocessed.csv\")\n",
        "\n",
        "X = df.iloc[:, :-1].values\n",
        "Y = df.iloc[:, -1].values\n",
        "\n",
        "\n",
        "X_train, X_rem, y_train, y_rem = train_test_split(X, Y, train_size=0.8, random_state=0)\n",
        "X_valid, X_test, y_valid, y_test = train_test_split(X_rem, y_rem, test_size=0.5, random_state=0)\n",
        "\n",
        "\n",
        "sc = StandardScaler()\n",
        "X_train = sc.fit_transform(X_train)\n",
        "X_valid = sc.transform(X_valid)\n",
        "\n",
        "svm = SVC(C = 1, kernel = 'rbf' , gamma = 0.1)\n",
        "history = svm.fit(X_train, y_train)\n",
        "y_pred = svm.predict(sc.transform(X_test))\n",
        "accuracy = svm.score(sc.transform(X_test), y_test)\n",
        "\n",
        "print(\"Accuracy: \", accuracy*100,'%')"
      ],
      "metadata": {
        "colab": {
          "base_uri": "https://localhost:8080/"
        },
        "id": "E4MJys4OGuqu",
        "outputId": "d97d2efd-601d-451a-b476-a5d54c9fe2a6"
      },
      "execution_count": null,
      "outputs": [
        {
          "output_type": "stream",
          "name": "stdout",
          "text": [
            "Accuracy:  98.0 %\n"
          ]
        }
      ]
    },
    {
      "cell_type": "code",
      "source": [
        "import matplotlib.pyplot as plt\n",
        "from sklearn.metrics import confusion_matrix, accuracy_score, classification_report, roc_curve, auc, roc_auc_score"
      ],
      "metadata": {
        "id": "-GexxpuZaL2I"
      },
      "execution_count": null,
      "outputs": []
    },
    {
      "cell_type": "code",
      "source": [
        "print(\"Classification report for classifier %s:\\n%s\\n\" % (\n",
        "    svm, classification_report(y_test, y_pred)))\n"
      ],
      "metadata": {
        "colab": {
          "base_uri": "https://localhost:8080/"
        },
        "id": "D2gGNheP5EUe",
        "outputId": "3c8cee95-3dc9-4922-c30b-90fd32bb280b"
      },
      "execution_count": null,
      "outputs": [
        {
          "output_type": "stream",
          "name": "stdout",
          "text": [
            "Classification report for classifier SVC(C=1, gamma=0.1):\n",
            "              precision    recall  f1-score   support\n",
            "\n",
            "           0       0.99      0.98      0.99       174\n",
            "           1       0.89      0.96      0.93        26\n",
            "\n",
            "    accuracy                           0.98       200\n",
            "   macro avg       0.94      0.97      0.96       200\n",
            "weighted avg       0.98      0.98      0.98       200\n",
            "\n",
            "\n"
          ]
        }
      ]
    },
    {
      "cell_type": "code",
      "source": [
        "################# Confusion matrix\n",
        "y_pred = svm.predict(sc.transform(X_test))\n",
        "y_pred = (y_pred > 0.5)\n",
        "cm = confusion_matrix(y_test, y_pred)\n",
        "print(\"Confusion matrix\")\n",
        "print(cm)\n",
        "\n",
        "################ Accuracy\n",
        "print()\n",
        "print(\"Model accuracy: \", accuracy_score(y_test, y_pred))"
      ],
      "metadata": {
        "colab": {
          "base_uri": "https://localhost:8080/"
        },
        "id": "AVHBVONKdd5-",
        "outputId": "35c28cb7-c07d-4d96-ca83-4bc62c55cd9f"
      },
      "execution_count": null,
      "outputs": [
        {
          "output_type": "stream",
          "name": "stdout",
          "text": [
            "Confusion matrix\n",
            "[[171   3]\n",
            " [  1  25]]\n",
            "\n",
            "Model accuracy:  0.98\n"
          ]
        }
      ]
    },
    {
      "cell_type": "code",
      "source": [
        "# Learning curve\n",
        "from yellowbrick.model_selection import LearningCurve\n",
        "\n",
        "visualizer = LearningCurve(svm, scoring='r2')\n",
        "\n",
        "visualizer.fit(np.append(X_valid, X_test, axis = 0),np.append(y_valid, y_test, axis = 0)) \n",
        "visualizer.show()"
      ],
      "metadata": {
        "colab": {
          "base_uri": "https://localhost:8080/",
          "height": 311
        },
        "id": "5f4HR3ycdyBE",
        "outputId": "a01b2f73-f1c2-4466-be53-1bab6c0b30a2"
      },
      "execution_count": null,
      "outputs": [
        {
          "output_type": "display_data",
          "data": {
            "image/png": "[encoded data removed]",
            "text/plain": [
              "<Figure size 432x288 with 1 Axes>"
            ]
          },
          "metadata": {
            "needs_background": "light"
          }
        },
        {
          "output_type": "execute_result",
          "data": {
            "text/plain": [
              "<matplotlib.axes._subplots.AxesSubplot at 0x7fbe41f6af90>"
            ]
          },
          "metadata": {},
          "execution_count": 21
        }
      ]
    },
    {
      "cell_type": "code",
      "source": [
        "################## ROC Curve\n",
        "y_pred = svm.predict(sc.transform(X_test)).ravel()\n",
        "fpr, tpr, _ = roc_curve(y_test,  y_pred)\n",
        "plt.plot(fpr,tpr)\n",
        "auc = roc_auc_score(y_test, y_pred)\n",
        "plt.plot(fpr,tpr,label=\"AUC=\"+str(auc))\n",
        "plt.title('ROC Curve')\n",
        "plt.ylabel('True Positive Rate')\n",
        "plt.xlabel('False Positive Rate')\n",
        "plt.legend(loc=4)\n",
        "plt.show()"
      ],
      "metadata": {
        "colab": {
          "base_uri": "https://localhost:8080/",
          "height": 294
        },
        "id": "avvEiUjxd0b6",
        "outputId": "e665e284-8ddb-47aa-8caf-adae3044adbd"
      },
      "execution_count": null,
      "outputs": [
        {
          "output_type": "display_data",
          "data": {
            "image/png": "[encoded data removed]",
            "text/plain": [
              "<Figure size 432x288 with 1 Axes>"
            ]
          },
          "metadata": {
            "needs_background": "light"
          }
        }
      ]
    },
    {
      "cell_type": "code",
      "source": [
        "import pickle\n",
        "fileName = \"/content/drive/MyDrive/ML_Results_Main/SVM_Numeric_98.model\"\n",
        "pickle.dump(svm, open(fileName, 'wb'))"
      ],
      "metadata": {
        "id": "KWyCN_SiV-xF"
      },
      "execution_count": null,
      "outputs": []
    }
  ]
}