{
  "nbformat": 4,
  "nbformat_minor": 0,
  "metadata": {
    "colab": {
      "name": "ANN_Numeric.ipynb",
      "provenance": [],
      "collapsed_sections": []
    },
    "kernelspec": {
      "name": "python3",
      "display_name": "Python 3"
    },
    "language_info": {
      "name": "python"
    }
  },
  "cells": [
    {
      "cell_type": "code",
      "execution_count": null,
      "metadata": {
        "colab": {
          "base_uri": "https://localhost:8080/"
        },
        "id": "VKUrPo-tEOZX",
        "outputId": "92356a36-4318-4298-bb94-d2a840e502aa"
      },
      "outputs": [
        {
          "output_type": "stream",
          "name": "stdout",
          "text": [
            "Mounted at /content/drive\n"
          ]
        }
      ],
      "source": [
        "from google.colab import drive\n",
        "drive.mount(\"/content/drive\")"
      ]
    },
    {
      "cell_type": "code",
      "source": [
        "import numpy as np\n",
        "import pandas as pd\n",
        "import tensorflow as tf\n",
        "from sklearn.model_selection import train_test_split\n",
        "from sklearn.preprocessing import StandardScaler\n",
        "\n",
        "df = pd.read_csv(\"/content/drive/MyDrive/ML_Results/preprocessed.csv\")\n",
        "\n",
        "X = df.iloc[:, :-1].values\n",
        "Y = df.iloc[:, -1].values\n",
        "\n",
        "X_train, X_test, y_train, y_test = train_test_split(X, Y, test_size=0.2, random_state=0)\n",
        "\n",
        "sc = StandardScaler()\n",
        "X_train = sc.fit_transform(X_train)\n",
        "X_test = sc.transform(X_test)\n",
        "\n",
        "\n",
        "ann = tf.keras.models.Sequential()\n",
        "ann.add(tf.keras.layers.Dense(units = 3,activation='relu'))\n",
        "ann.add(tf.keras.layers.Dense(units = 5,activation='relu'))\n",
        "ann.add(tf.keras.layers.Dense(units = 1,activation='sigmoid'))\n",
        "ann.compile(optimizer = 'adam', loss = 'mean_squared_error', metrics = ['accuracy'])\n",
        "history = ann.fit(X_train, y_train, epochs=30, batch_size=32, validation_split = 0.2)\n",
        "\n",
        "loss, acc = ann.evaluate(X_test,y_test)\n",
        "\n",
        "print(\"Loss: \", loss)\n",
        "print(\"Accuracy: \", acc)"
      ],
      "metadata": {
        "colab": {
          "base_uri": "https://localhost:8080/"
        },
        "id": "E4MJys4OGuqu",
        "outputId": "779d8d3a-56ca-4d2d-94a5-34f10d40791f"
      },
      "execution_count": null,
      "outputs": [
        {
          "output_type": "stream",
          "name": "stdout",
          "text": [
            "Epoch 1/30\n",
            "40/40 [==============================] - 1s 5ms/step - loss: 0.2128 - accuracy: 0.8527 - val_loss: 0.1950 - val_accuracy: 0.8683\n",
            "Epoch 2/30\n",
            "40/40 [==============================] - 0s 2ms/step - loss: 0.1938 - accuracy: 0.8527 - val_loss: 0.1777 - val_accuracy: 0.8683\n",
            "Epoch 3/30\n",
            "40/40 [==============================] - 0s 3ms/step - loss: 0.1770 - accuracy: 0.8527 - val_loss: 0.1620 - val_accuracy: 0.8683\n",
            "Epoch 4/30\n",
            "40/40 [==============================] - 0s 3ms/step - loss: 0.1616 - accuracy: 0.8527 - val_loss: 0.1480 - val_accuracy: 0.8683\n",
            "Epoch 5/30\n",
            "40/40 [==============================] - 0s 3ms/step - loss: 0.1476 - accuracy: 0.8527 - val_loss: 0.1348 - val_accuracy: 0.8683\n",
            "Epoch 6/30\n",
            "40/40 [==============================] - 0s 2ms/step - loss: 0.1344 - accuracy: 0.8527 - val_loss: 0.1224 - val_accuracy: 0.8683\n",
            "Epoch 7/30\n",
            "40/40 [==============================] - 0s 2ms/step - loss: 0.1221 - accuracy: 0.8527 - val_loss: 0.1109 - val_accuracy: 0.8683\n",
            "Epoch 8/30\n",
            "40/40 [==============================] - 0s 2ms/step - loss: 0.1106 - accuracy: 0.8527 - val_loss: 0.1003 - val_accuracy: 0.8683\n",
            "Epoch 9/30\n",
            "40/40 [==============================] - 0s 2ms/step - loss: 0.1000 - accuracy: 0.8527 - val_loss: 0.0904 - val_accuracy: 0.8683\n",
            "Epoch 10/30\n",
            "40/40 [==============================] - 0s 3ms/step - loss: 0.0901 - accuracy: 0.8527 - val_loss: 0.0817 - val_accuracy: 0.8683\n",
            "Epoch 11/30\n",
            "40/40 [==============================] - 0s 2ms/step - loss: 0.0824 - accuracy: 0.8527 - val_loss: 0.0751 - val_accuracy: 0.8683\n",
            "Epoch 12/30\n",
            "40/40 [==============================] - 0s 3ms/step - loss: 0.0767 - accuracy: 0.8527 - val_loss: 0.0701 - val_accuracy: 0.8683\n",
            "Epoch 13/30\n",
            "40/40 [==============================] - 0s 3ms/step - loss: 0.0723 - accuracy: 0.8527 - val_loss: 0.0662 - val_accuracy: 0.8683\n",
            "Epoch 14/30\n",
            "40/40 [==============================] - 0s 3ms/step - loss: 0.0689 - accuracy: 0.8527 - val_loss: 0.0631 - val_accuracy: 0.8683\n",
            "Epoch 15/30\n",
            "40/40 [==============================] - 0s 3ms/step - loss: 0.0660 - accuracy: 0.8527 - val_loss: 0.0604 - val_accuracy: 0.8683\n",
            "Epoch 16/30\n",
            "40/40 [==============================] - 0s 3ms/step - loss: 0.0635 - accuracy: 0.8527 - val_loss: 0.0582 - val_accuracy: 0.8683\n",
            "Epoch 17/30\n",
            "40/40 [==============================] - 0s 3ms/step - loss: 0.0614 - accuracy: 0.8527 - val_loss: 0.0563 - val_accuracy: 0.8683\n",
            "Epoch 18/30\n",
            "40/40 [==============================] - 0s 2ms/step - loss: 0.0595 - accuracy: 0.8527 - val_loss: 0.0545 - val_accuracy: 0.8683\n",
            "Epoch 19/30\n",
            "40/40 [==============================] - 0s 3ms/step - loss: 0.0579 - accuracy: 0.8527 - val_loss: 0.0529 - val_accuracy: 0.8683\n",
            "Epoch 20/30\n",
            "40/40 [==============================] - 0s 3ms/step - loss: 0.0563 - accuracy: 0.8527 - val_loss: 0.0514 - val_accuracy: 0.8683\n",
            "Epoch 21/30\n",
            "40/40 [==============================] - 0s 2ms/step - loss: 0.0549 - accuracy: 0.8527 - val_loss: 0.0501 - val_accuracy: 0.8683\n",
            "Epoch 22/30\n",
            "40/40 [==============================] - 0s 3ms/step - loss: 0.0536 - accuracy: 0.8527 - val_loss: 0.0489 - val_accuracy: 0.8683\n",
            "Epoch 23/30\n",
            "40/40 [==============================] - 0s 3ms/step - loss: 0.0524 - accuracy: 0.8527 - val_loss: 0.0477 - val_accuracy: 0.8683\n",
            "Epoch 24/30\n",
            "40/40 [==============================] - 0s 3ms/step - loss: 0.0512 - accuracy: 0.8527 - val_loss: 0.0466 - val_accuracy: 0.8683\n",
            "Epoch 25/30\n",
            "40/40 [==============================] - 0s 3ms/step - loss: 0.0500 - accuracy: 0.8527 - val_loss: 0.0455 - val_accuracy: 0.8683\n",
            "Epoch 26/30\n",
            "40/40 [==============================] - 0s 2ms/step - loss: 0.0489 - accuracy: 0.8636 - val_loss: 0.0445 - val_accuracy: 0.9561\n",
            "Epoch 27/30\n",
            "40/40 [==============================] - 0s 3ms/step - loss: 0.0479 - accuracy: 0.9608 - val_loss: 0.0435 - val_accuracy: 0.9592\n",
            "Epoch 28/30\n",
            "40/40 [==============================] - 0s 3ms/step - loss: 0.0468 - accuracy: 0.9647 - val_loss: 0.0426 - val_accuracy: 0.9592\n",
            "Epoch 29/30\n",
            "40/40 [==============================] - 0s 3ms/step - loss: 0.0457 - accuracy: 0.9639 - val_loss: 0.0417 - val_accuracy: 0.9592\n",
            "Epoch 30/30\n",
            "40/40 [==============================] - 0s 2ms/step - loss: 0.0447 - accuracy: 0.9647 - val_loss: 0.0407 - val_accuracy: 0.9592\n",
            "13/13 [==============================] - 0s 2ms/step - loss: 0.0413 - accuracy: 0.9724\n",
            "Loss:  0.0413050539791584\n",
            "Accuracy:  0.9724310636520386\n"
          ]
        }
      ]
    },
    {
      "cell_type": "code",
      "source": [
        "import matplotlib.pyplot as plt\n",
        "from sklearn.metrics import confusion_matrix, accuracy_score, classification_report, roc_curve, auc, roc_auc_score"
      ],
      "metadata": {
        "id": "-GexxpuZaL2I"
      },
      "execution_count": null,
      "outputs": []
    },
    {
      "cell_type": "code",
      "source": [
        "y_pred = ann.predict(X_test)\n",
        "y_pred = (y_pred > 0.5)"
      ],
      "metadata": {
        "id": "JgOQhCMjIRPB"
      },
      "execution_count": null,
      "outputs": []
    },
    {
      "cell_type": "code",
      "source": [
        "print(\"Classification report for classifier %s:\\n%s\\n\" % (\n",
        "    ann, classification_report(y_test, y_pred)))\n"
      ],
      "metadata": {
        "colab": {
          "base_uri": "https://localhost:8080/"
        },
        "id": "syIjCMBdddjZ",
        "outputId": "dc54a48f-cec2-4911-846d-ec13293319f9"
      },
      "execution_count": null,
      "outputs": [
        {
          "output_type": "stream",
          "name": "stdout",
          "text": [
            "Classification report for classifier <keras.engine.sequential.Sequential object at 0x7f04003ff490>:\n",
            "              precision    recall  f1-score   support\n",
            "\n",
            "           0       0.97      1.00      0.98       346\n",
            "           1       1.00      0.79      0.88        53\n",
            "\n",
            "    accuracy                           0.97       399\n",
            "   macro avg       0.98      0.90      0.93       399\n",
            "weighted avg       0.97      0.97      0.97       399\n",
            "\n",
            "\n"
          ]
        }
      ]
    },
    {
      "cell_type": "code",
      "source": [
        "################# Confusion matrix\n",
        "cm = confusion_matrix(y_test, y_pred)\n",
        "print(\"Confusion matrix\")\n",
        "print(cm)\n",
        "\n",
        "################ Accuracy\n",
        "print()\n",
        "print(\"Model accuracy: \", accuracy_score(y_test, y_pred))"
      ],
      "metadata": {
        "colab": {
          "base_uri": "https://localhost:8080/"
        },
        "id": "AVHBVONKdd5-",
        "outputId": "ce7ca0e5-212c-4b25-86d9-b7811f6f9d29"
      },
      "execution_count": null,
      "outputs": [
        {
          "output_type": "stream",
          "name": "stdout",
          "text": [
            "Confusion matrix\n",
            "[[346   0]\n",
            " [ 11  42]]\n",
            "\n",
            "Model accuracy:  0.9724310776942355\n"
          ]
        }
      ]
    },
    {
      "cell_type": "code",
      "source": [
        "################### Loss Curve\n",
        "plt.plot(history.history['loss'])\n",
        "plt.plot(history.history['val_loss'])\n",
        "plt.title('Model loss')\n",
        "plt.ylabel('Loss')\n",
        "plt.xlabel('Epoch')\n",
        "plt.legend(['Training loss', 'Validation loss'], loc='upper right')\n",
        "plt.show()"
      ],
      "metadata": {
        "colab": {
          "base_uri": "https://localhost:8080/",
          "height": 295
        },
        "id": "5f4HR3ycdyBE",
        "outputId": "b37d9217-2098-4fc8-b444-20efee0ab9cf"
      },
      "execution_count": null,
      "outputs": [
        {
          "output_type": "display_data",
          "data": {
            "image/png": "[encoded data removed]",
            "text/plain": [
              "<Figure size 432x288 with 1 Axes>"
            ]
          },
          "metadata": {
            "needs_background": "light"
          }
        }
      ]
    },
    {
      "cell_type": "code",
      "source": [
        "################## ROC Curve\n",
        "y_pred = y_pred.ravel()\n",
        "fpr, tpr, _ = roc_curve(y_test,  y_pred)\n",
        "plt.plot(fpr,tpr)\n",
        "auc = roc_auc_score(y_test, y_pred)\n",
        "plt.plot(fpr,tpr,label=\"AUC=\"+str(auc))\n",
        "plt.title('ROC Curve')\n",
        "plt.ylabel('True Positive Rate')\n",
        "plt.xlabel('False Positive Rate')\n",
        "plt.legend(loc=4)\n",
        "plt.show()"
      ],
      "metadata": {
        "colab": {
          "base_uri": "https://localhost:8080/",
          "height": 295
        },
        "id": "avvEiUjxd0b6",
        "outputId": "c8c615f7-e976-4419-e825-612acf9cc2bd"
      },
      "execution_count": null,
      "outputs": [
        {
          "output_type": "display_data",
          "data": {
            "image/png": "[encoded data removed]",
            "text/plain": [
              "<Figure size 432x288 with 1 Axes>"
            ]
          },
          "metadata": {
            "needs_background": "light"
          }
        }
      ]
    },
    {
      "cell_type": "code",
      "source": [
        "import pickle\n",
        "fileName = \"/content/drive/MyDrive/ML_Results_Main/ANN_Numeric_97.model\"\n",
        "pickle.dump(ann, open(fileName, 'wb'))"
      ],
      "metadata": {
        "colab": {
          "base_uri": "https://localhost:8080/"
        },
        "id": "KWyCN_SiV-xF",
        "outputId": "4bd43cb5-2d5e-4606-f981-4dee683cf4c1"
      },
      "execution_count": null,
      "outputs": [
        {
          "output_type": "stream",
          "name": "stdout",
          "text": [
            "INFO:tensorflow:Assets written to: ram://ec106bc8-90ad-4322-b5cb-8db07b44a470/assets\n"
          ]
        }
      ]
    }
  ]
}