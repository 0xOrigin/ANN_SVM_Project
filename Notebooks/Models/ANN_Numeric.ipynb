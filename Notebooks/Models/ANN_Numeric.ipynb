{
  "nbformat": 4,
  "nbformat_minor": 0,
  "metadata": {
    "colab": {
      "name": "ANN_Numeric.ipynb",
      "provenance": []
    },
    "kernelspec": {
      "name": "python3",
      "display_name": "Python 3"
    },
    "language_info": {
      "name": "python"
    }
  },
  "cells": [
    {
      "cell_type": "code",
      "execution_count": 2,
      "metadata": {
        "colab": {
          "base_uri": "https://localhost:8080/"
        },
        "id": "VKUrPo-tEOZX",
        "outputId": "1389d8a8-0c60-45ea-ea83-542a5c4004c2"
      },
      "outputs": [
        {
          "output_type": "stream",
          "name": "stdout",
          "text": [
            "Mounted at /content/drive\n"
          ]
        }
      ],
      "source": [
        "from google.colab import drive\n",
        "drive.mount(\"/content/drive\")"
      ]
    },
    {
      "cell_type": "code",
      "source": [
        "import numpy as np\n",
        "import pandas as pd\n",
        "import tensorflow as tf\n",
        "from sklearn.model_selection import train_test_split\n",
        "from sklearn.preprocessing import StandardScaler\n",
        "\n",
        "df = pd.read_csv(\"/content/drive/MyDrive/ML_Results/preprocessed.csv\")\n",
        "\n",
        "X = df.iloc[:, :-1].values\n",
        "Y = df.iloc[:, -1].values\n",
        "\n",
        "\n",
        "X_train, X_rem, y_train, y_rem = train_test_split(X, Y, train_size=0.8, random_state=0)\n",
        "X_valid, X_test, y_valid, y_test = train_test_split(X_rem, y_rem, test_size=0.5, random_state=0)\n",
        "\n",
        "\n",
        "sc = StandardScaler()\n",
        "X_train = sc.fit_transform(X_train)\n",
        "X_valid = sc.transform(X_valid)\n",
        "\n",
        "\n",
        "ann = tf.keras.models.Sequential()\n",
        "ann.add(tf.keras.layers.Dense(units = 7,activation='relu'))\n",
        "ann.add(tf.keras.layers.Dense(units = 1,activation='sigmoid'))\n",
        "ann.compile(optimizer = 'adam', loss = 'mse', metrics = ['accuracy'])\n",
        "history = ann.fit(X_train, y_train, epochs = 50, validation_data=(X_valid, y_valid))\n",
        "\n",
        "y_pred = ann.predict(sc.transform(X_test))\n",
        "y_pred = (y_pred > 0.5)\n",
        "\n",
        "loss,acc = ann.evaluate(sc.transform(X_test),y_test)\n",
        "\n",
        "print(\"Loss: \", loss)\n",
        "print(\"Accuracy: \", acc)"
      ],
      "metadata": {
        "colab": {
          "base_uri": "https://localhost:8080/"
        },
        "id": "E4MJys4OGuqu",
        "outputId": "07d2df37-63f1-40f1-c384-97fd2afba901"
      },
      "execution_count": 3,
      "outputs": [
        {
          "output_type": "stream",
          "name": "stdout",
          "text": [
            "Epoch 1/50\n",
            "50/50 [==============================] - 1s 6ms/step - loss: 0.2582 - accuracy: 0.4721 - val_loss: 0.2285 - val_accuracy: 0.5980\n",
            "Epoch 2/50\n",
            "50/50 [==============================] - 0s 2ms/step - loss: 0.2117 - accuracy: 0.6846 - val_loss: 0.1951 - val_accuracy: 0.7538\n",
            "Epoch 3/50\n",
            "50/50 [==============================] - 0s 3ms/step - loss: 0.1804 - accuracy: 0.8495 - val_loss: 0.1736 - val_accuracy: 0.8794\n",
            "Epoch 4/50\n",
            "50/50 [==============================] - 0s 3ms/step - loss: 0.1605 - accuracy: 0.9066 - val_loss: 0.1581 - val_accuracy: 0.8995\n",
            "Epoch 5/50\n",
            "50/50 [==============================] - 0s 3ms/step - loss: 0.1458 - accuracy: 0.9172 - val_loss: 0.1455 - val_accuracy: 0.9045\n",
            "Epoch 6/50\n",
            "50/50 [==============================] - 0s 2ms/step - loss: 0.1338 - accuracy: 0.9229 - val_loss: 0.1339 - val_accuracy: 0.9095\n",
            "Epoch 7/50\n",
            "50/50 [==============================] - 0s 3ms/step - loss: 0.1234 - accuracy: 0.9260 - val_loss: 0.1232 - val_accuracy: 0.9146\n",
            "Epoch 8/50\n",
            "50/50 [==============================] - 0s 3ms/step - loss: 0.1138 - accuracy: 0.9273 - val_loss: 0.1131 - val_accuracy: 0.9146\n",
            "Epoch 9/50\n",
            "50/50 [==============================] - 0s 3ms/step - loss: 0.1046 - accuracy: 0.9342 - val_loss: 0.1030 - val_accuracy: 0.9196\n",
            "Epoch 10/50\n",
            "50/50 [==============================] - 0s 3ms/step - loss: 0.0955 - accuracy: 0.9392 - val_loss: 0.0932 - val_accuracy: 0.9447\n",
            "Epoch 11/50\n",
            "50/50 [==============================] - 0s 2ms/step - loss: 0.0868 - accuracy: 0.9404 - val_loss: 0.0840 - val_accuracy: 0.9598\n",
            "Epoch 12/50\n",
            "50/50 [==============================] - 0s 3ms/step - loss: 0.0785 - accuracy: 0.9442 - val_loss: 0.0757 - val_accuracy: 0.9648\n",
            "Epoch 13/50\n",
            "50/50 [==============================] - 0s 3ms/step - loss: 0.0712 - accuracy: 0.9492 - val_loss: 0.0680 - val_accuracy: 0.9548\n",
            "Epoch 14/50\n",
            "50/50 [==============================] - 0s 3ms/step - loss: 0.0647 - accuracy: 0.9517 - val_loss: 0.0620 - val_accuracy: 0.9598\n",
            "Epoch 15/50\n",
            "50/50 [==============================] - 0s 3ms/step - loss: 0.0594 - accuracy: 0.9542 - val_loss: 0.0569 - val_accuracy: 0.9698\n",
            "Epoch 16/50\n",
            "50/50 [==============================] - 0s 3ms/step - loss: 0.0551 - accuracy: 0.9555 - val_loss: 0.0527 - val_accuracy: 0.9698\n",
            "Epoch 17/50\n",
            "50/50 [==============================] - 0s 2ms/step - loss: 0.0516 - accuracy: 0.9549 - val_loss: 0.0493 - val_accuracy: 0.9698\n",
            "Epoch 18/50\n",
            "50/50 [==============================] - 0s 3ms/step - loss: 0.0486 - accuracy: 0.9580 - val_loss: 0.0467 - val_accuracy: 0.9698\n",
            "Epoch 19/50\n",
            "50/50 [==============================] - 0s 2ms/step - loss: 0.0461 - accuracy: 0.9561 - val_loss: 0.0442 - val_accuracy: 0.9698\n",
            "Epoch 20/50\n",
            "50/50 [==============================] - 0s 3ms/step - loss: 0.0440 - accuracy: 0.9586 - val_loss: 0.0423 - val_accuracy: 0.9749\n",
            "Epoch 21/50\n",
            "50/50 [==============================] - 0s 3ms/step - loss: 0.0421 - accuracy: 0.9611 - val_loss: 0.0406 - val_accuracy: 0.9749\n",
            "Epoch 22/50\n",
            "50/50 [==============================] - 0s 3ms/step - loss: 0.0404 - accuracy: 0.9618 - val_loss: 0.0389 - val_accuracy: 0.9749\n",
            "Epoch 23/50\n",
            "50/50 [==============================] - 0s 3ms/step - loss: 0.0390 - accuracy: 0.9605 - val_loss: 0.0375 - val_accuracy: 0.9799\n",
            "Epoch 24/50\n",
            "50/50 [==============================] - 0s 2ms/step - loss: 0.0377 - accuracy: 0.9611 - val_loss: 0.0362 - val_accuracy: 0.9799\n",
            "Epoch 25/50\n",
            "50/50 [==============================] - 0s 3ms/step - loss: 0.0365 - accuracy: 0.9643 - val_loss: 0.0351 - val_accuracy: 0.9799\n",
            "Epoch 26/50\n",
            "50/50 [==============================] - 0s 2ms/step - loss: 0.0354 - accuracy: 0.9643 - val_loss: 0.0342 - val_accuracy: 0.9799\n",
            "Epoch 27/50\n",
            "50/50 [==============================] - 0s 3ms/step - loss: 0.0344 - accuracy: 0.9655 - val_loss: 0.0332 - val_accuracy: 0.9799\n",
            "Epoch 28/50\n",
            "50/50 [==============================] - 0s 3ms/step - loss: 0.0335 - accuracy: 0.9655 - val_loss: 0.0323 - val_accuracy: 0.9799\n",
            "Epoch 29/50\n",
            "50/50 [==============================] - 0s 3ms/step - loss: 0.0326 - accuracy: 0.9674 - val_loss: 0.0314 - val_accuracy: 0.9799\n",
            "Epoch 30/50\n",
            "50/50 [==============================] - 0s 2ms/step - loss: 0.0318 - accuracy: 0.9674 - val_loss: 0.0307 - val_accuracy: 0.9799\n",
            "Epoch 31/50\n",
            "50/50 [==============================] - 0s 3ms/step - loss: 0.0311 - accuracy: 0.9674 - val_loss: 0.0300 - val_accuracy: 0.9799\n",
            "Epoch 32/50\n",
            "50/50 [==============================] - 0s 3ms/step - loss: 0.0303 - accuracy: 0.9680 - val_loss: 0.0293 - val_accuracy: 0.9799\n",
            "Epoch 33/50\n",
            "50/50 [==============================] - 0s 2ms/step - loss: 0.0297 - accuracy: 0.9680 - val_loss: 0.0286 - val_accuracy: 0.9799\n",
            "Epoch 34/50\n",
            "50/50 [==============================] - 0s 2ms/step - loss: 0.0290 - accuracy: 0.9705 - val_loss: 0.0281 - val_accuracy: 0.9799\n",
            "Epoch 35/50\n",
            "50/50 [==============================] - 0s 2ms/step - loss: 0.0284 - accuracy: 0.9699 - val_loss: 0.0275 - val_accuracy: 0.9799\n",
            "Epoch 36/50\n",
            "50/50 [==============================] - 0s 3ms/step - loss: 0.0278 - accuracy: 0.9699 - val_loss: 0.0270 - val_accuracy: 0.9799\n",
            "Epoch 37/50\n",
            "50/50 [==============================] - 0s 3ms/step - loss: 0.0273 - accuracy: 0.9718 - val_loss: 0.0264 - val_accuracy: 0.9799\n",
            "Epoch 38/50\n",
            "50/50 [==============================] - 0s 3ms/step - loss: 0.0268 - accuracy: 0.9718 - val_loss: 0.0259 - val_accuracy: 0.9799\n",
            "Epoch 39/50\n",
            "50/50 [==============================] - 0s 3ms/step - loss: 0.0263 - accuracy: 0.9718 - val_loss: 0.0256 - val_accuracy: 0.9799\n",
            "Epoch 40/50\n",
            "50/50 [==============================] - 0s 3ms/step - loss: 0.0258 - accuracy: 0.9737 - val_loss: 0.0251 - val_accuracy: 0.9799\n",
            "Epoch 41/50\n",
            "50/50 [==============================] - 0s 3ms/step - loss: 0.0253 - accuracy: 0.9724 - val_loss: 0.0246 - val_accuracy: 0.9799\n",
            "Epoch 42/50\n",
            "50/50 [==============================] - 0s 2ms/step - loss: 0.0249 - accuracy: 0.9743 - val_loss: 0.0242 - val_accuracy: 0.9799\n",
            "Epoch 43/50\n",
            "50/50 [==============================] - 0s 3ms/step - loss: 0.0244 - accuracy: 0.9749 - val_loss: 0.0238 - val_accuracy: 0.9799\n",
            "Epoch 44/50\n",
            "50/50 [==============================] - 0s 3ms/step - loss: 0.0241 - accuracy: 0.9762 - val_loss: 0.0235 - val_accuracy: 0.9799\n",
            "Epoch 45/50\n",
            "50/50 [==============================] - 0s 3ms/step - loss: 0.0236 - accuracy: 0.9762 - val_loss: 0.0231 - val_accuracy: 0.9849\n",
            "Epoch 46/50\n",
            "50/50 [==============================] - 0s 4ms/step - loss: 0.0232 - accuracy: 0.9768 - val_loss: 0.0228 - val_accuracy: 0.9799\n",
            "Epoch 47/50\n",
            "50/50 [==============================] - 0s 3ms/step - loss: 0.0229 - accuracy: 0.9774 - val_loss: 0.0224 - val_accuracy: 0.9849\n",
            "Epoch 48/50\n",
            "50/50 [==============================] - 0s 3ms/step - loss: 0.0225 - accuracy: 0.9774 - val_loss: 0.0220 - val_accuracy: 0.9849\n",
            "Epoch 49/50\n",
            "50/50 [==============================] - 0s 3ms/step - loss: 0.0221 - accuracy: 0.9781 - val_loss: 0.0217 - val_accuracy: 0.9849\n",
            "Epoch 50/50\n",
            "50/50 [==============================] - 0s 3ms/step - loss: 0.0217 - accuracy: 0.9793 - val_loss: 0.0215 - val_accuracy: 0.9849\n",
            "7/7 [==============================] - 0s 3ms/step - loss: 0.0186 - accuracy: 0.9800\n",
            "Loss:  0.018607044592499733\n",
            "Accuracy:  0.9800000190734863\n"
          ]
        }
      ]
    },
    {
      "cell_type": "code",
      "source": [
        "import matplotlib.pyplot as plt\n",
        "from sklearn.metrics import confusion_matrix, accuracy_score, classification_report, roc_curve, auc, roc_auc_score"
      ],
      "metadata": {
        "id": "-GexxpuZaL2I"
      },
      "execution_count": 5,
      "outputs": []
    },
    {
      "cell_type": "code",
      "source": [
        "print(\"Classification report for classifier %s:\\n%s\\n\" % (\n",
        "    ann, classification_report(y_test, y_pred)))\n"
      ],
      "metadata": {
        "colab": {
          "base_uri": "https://localhost:8080/"
        },
        "id": "syIjCMBdddjZ",
        "outputId": "0ae19a60-d17b-4891-882f-0061c2e72a5b"
      },
      "execution_count": 6,
      "outputs": [
        {
          "output_type": "stream",
          "name": "stdout",
          "text": [
            "Classification report for classifier <keras.engine.sequential.Sequential object at 0x7f49ad6da9d0>:\n",
            "              precision    recall  f1-score   support\n",
            "\n",
            "           0       0.99      0.98      0.99       174\n",
            "           1       0.89      0.96      0.93        26\n",
            "\n",
            "    accuracy                           0.98       200\n",
            "   macro avg       0.94      0.97      0.96       200\n",
            "weighted avg       0.98      0.98      0.98       200\n",
            "\n",
            "\n"
          ]
        }
      ]
    },
    {
      "cell_type": "code",
      "source": [
        "################# Confusion matrix\n",
        "y_pred = ann.predict(sc.transform(X_test))\n",
        "y_pred = (y_pred > 0.5)\n",
        "cm = confusion_matrix(y_test, y_pred)\n",
        "print(\"Confusion matrix\")\n",
        "print(cm)\n",
        "\n",
        "################ Accuracy\n",
        "print()\n",
        "print(\"Model accuracy: \", accuracy_score(y_test, y_pred))"
      ],
      "metadata": {
        "colab": {
          "base_uri": "https://localhost:8080/"
        },
        "id": "AVHBVONKdd5-",
        "outputId": "7f3f1714-0f8c-4b64-8cae-86baa623e735"
      },
      "execution_count": 7,
      "outputs": [
        {
          "output_type": "stream",
          "name": "stdout",
          "text": [
            "Confusion matrix\n",
            "[[171   3]\n",
            " [  1  25]]\n",
            "\n",
            "Model accuracy:  0.98\n"
          ]
        }
      ]
    },
    {
      "cell_type": "code",
      "source": [
        "################### Loss Curve\n",
        "plt.plot(history.history['loss'])\n",
        "plt.plot(history.history['val_loss'])\n",
        "plt.title('Model loss')\n",
        "plt.ylabel('Loss')\n",
        "plt.xlabel('Epoch')\n",
        "plt.legend(['Training loss', 'Validation loss'], loc='upper right')\n",
        "plt.show()"
      ],
      "metadata": {
        "colab": {
          "base_uri": "https://localhost:8080/",
          "height": 295
        },
        "id": "5f4HR3ycdyBE",
        "outputId": "a7649cd3-a086-44f0-a119-9e4e76b80797"
      },
      "execution_count": 8,
      "outputs": [
        {
          "output_type": "display_data",
          "data": {
            "image/png": "[encoded data removed]",
            "text/plain": [
              "<Figure size 432x288 with 1 Axes>"
            ]
          },
          "metadata": {
            "needs_background": "light"
          }
        }
      ]
    },
    {
      "cell_type": "code",
      "source": [
        "################## ROC Curve\n",
        "y_pred = ann.predict(sc.transform(X_test)).ravel()\n",
        "fpr, tpr, _ = roc_curve(y_test,  y_pred)\n",
        "plt.plot(fpr,tpr)\n",
        "auc = roc_auc_score(y_test, y_pred)\n",
        "plt.plot(fpr,tpr,label=\"AUC=\"+str(auc))\n",
        "plt.title('ROC Curve')\n",
        "plt.ylabel('True Positive Rate')\n",
        "plt.xlabel('False Positive Rate')\n",
        "plt.legend(loc=4)\n",
        "plt.show()"
      ],
      "metadata": {
        "colab": {
          "base_uri": "https://localhost:8080/",
          "height": 295
        },
        "id": "avvEiUjxd0b6",
        "outputId": "1b571d9c-7e51-4124-96de-e4e58b8db3cf"
      },
      "execution_count": 9,
      "outputs": [
        {
          "output_type": "display_data",
          "data": {
            "image/png": "[encoded data removed]",
            "text/plain": [
              "<Figure size 432x288 with 1 Axes>"
            ]
          },
          "metadata": {
            "needs_background": "light"
          }
        }
      ]
    },
    {
      "cell_type": "code",
      "source": [
        "import pickle\n",
        "fileName = \"/content/drive/MyDrive/ML_Results_Main/ANN_Numeric_98.model\"\n",
        "pickle.dump(ann, open(fileName, 'wb'))"
      ],
      "metadata": {
        "colab": {
          "base_uri": "https://localhost:8080/"
        },
        "id": "KWyCN_SiV-xF",
        "outputId": "4bd43cb5-2d5e-4606-f981-4dee683cf4c1"
      },
      "execution_count": 10,
      "outputs": [
        {
          "output_type": "stream",
          "name": "stdout",
          "text": [
            "INFO:tensorflow:Assets written to: ram://ec106bc8-90ad-4322-b5cb-8db07b44a470/assets\n"
          ]
        }
      ]
    }
  ]
}