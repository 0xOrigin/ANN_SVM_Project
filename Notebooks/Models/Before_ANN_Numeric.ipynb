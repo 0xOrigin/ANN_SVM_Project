{
  "nbformat": 4,
  "nbformat_minor": 0,
  "metadata": {
    "colab": {
      "name": "Before_ANN_Numeric.ipynb",
      "provenance": [],
      "collapsed_sections": []
    },
    "kernelspec": {
      "name": "python3",
      "display_name": "Python 3"
    },
    "language_info": {
      "name": "python"
    }
  },
  "cells": [
    {
      "cell_type": "code",
      "execution_count": 1,
      "metadata": {
        "colab": {
          "base_uri": "https://localhost:8080/"
        },
        "id": "VKUrPo-tEOZX",
        "outputId": "bf27efa8-285f-452a-ec24-7caeffcb8d94"
      },
      "outputs": [
        {
          "output_type": "stream",
          "name": "stdout",
          "text": [
            "Mounted at /content/drive\n"
          ]
        }
      ],
      "source": [
        "from google.colab import drive\n",
        "drive.mount(\"/content/drive\")"
      ]
    },
    {
      "cell_type": "code",
      "source": [
        "import numpy as np\n",
        "import pandas as pd\n",
        "import tensorflow as tf\n",
        "from sklearn.model_selection import train_test_split\n",
        "from sklearn.preprocessing import StandardScaler\n",
        "\n",
        "df = pd.read_csv(\"/content/drive/MyDrive/ML_Results/preprocessed.csv\")\n",
        "\n",
        "X = df.iloc[:, 0:-1].values\n",
        "Y = df.iloc[:, -1].values\n",
        "\n",
        "\n",
        "X_train, X_test, y_train, y_test = train_test_split(X, Y, test_size=0.2, random_state=0)\n",
        "\n",
        "sc = StandardScaler()\n",
        "X_train = sc.fit_transform(X_train)\n",
        "X_test = sc.transform(X_test)\n",
        "\n",
        "\n",
        "ann = tf.keras.models.Sequential()\n",
        "ann.add(tf.keras.layers.Dense(units = 7,activation='relu'))\n",
        "ann.add(tf.keras.layers.Dense(units = 1,activation='sigmoid'))\n",
        "ann.compile(optimizer = 'adam', loss = 'mse', metrics = ['accuracy'])\n",
        "history = ann.fit(X_train, y_train, epochs = 10, batch_size=32, validation_split = 0.2)\n",
        "\n",
        "loss, acc = ann.evaluate(X_test, y_test)\n",
        "\n",
        "print(\"Loss: \", loss)\n",
        "print(\"Accuracy: \", acc)"
      ],
      "metadata": {
        "colab": {
          "base_uri": "https://localhost:8080/"
        },
        "id": "E4MJys4OGuqu",
        "outputId": "2e578a28-44ca-490d-d846-213c31c0ade9"
      },
      "execution_count": 2,
      "outputs": [
        {
          "output_type": "stream",
          "name": "stdout",
          "text": [
            "Epoch 1/10\n",
            "40/40 [==============================] - 2s 22ms/step - loss: 0.1826 - accuracy: 0.7218 - val_loss: 0.1705 - val_accuracy: 0.8056\n",
            "Epoch 2/10\n",
            "40/40 [==============================] - 0s 5ms/step - loss: 0.1623 - accuracy: 0.8299 - val_loss: 0.1529 - val_accuracy: 0.8683\n",
            "Epoch 3/10\n",
            "40/40 [==============================] - 0s 6ms/step - loss: 0.1462 - accuracy: 0.8534 - val_loss: 0.1384 - val_accuracy: 0.8683\n",
            "Epoch 4/10\n",
            "40/40 [==============================] - 0s 8ms/step - loss: 0.1324 - accuracy: 0.8574 - val_loss: 0.1255 - val_accuracy: 0.8715\n",
            "Epoch 5/10\n",
            "40/40 [==============================] - 0s 5ms/step - loss: 0.1201 - accuracy: 0.8683 - val_loss: 0.1138 - val_accuracy: 0.8809\n",
            "Epoch 6/10\n",
            "40/40 [==============================] - 0s 6ms/step - loss: 0.1088 - accuracy: 0.8793 - val_loss: 0.1032 - val_accuracy: 0.8934\n",
            "Epoch 7/10\n",
            "40/40 [==============================] - 0s 7ms/step - loss: 0.0986 - accuracy: 0.8950 - val_loss: 0.0936 - val_accuracy: 0.8997\n",
            "Epoch 8/10\n",
            "40/40 [==============================] - 0s 7ms/step - loss: 0.0896 - accuracy: 0.9107 - val_loss: 0.0855 - val_accuracy: 0.9060\n",
            "Epoch 9/10\n",
            "40/40 [==============================] - 0s 7ms/step - loss: 0.0821 - accuracy: 0.9193 - val_loss: 0.0785 - val_accuracy: 0.9122\n",
            "Epoch 10/10\n",
            "40/40 [==============================] - 0s 8ms/step - loss: 0.0756 - accuracy: 0.9303 - val_loss: 0.0730 - val_accuracy: 0.9216\n",
            "13/13 [==============================] - 0s 5ms/step - loss: 0.0700 - accuracy: 0.9323\n",
            "Loss:  0.07001606374979019\n",
            "Accuracy:  0.932330846786499\n"
          ]
        }
      ]
    },
    {
      "cell_type": "code",
      "source": [
        "import matplotlib.pyplot as plt\n",
        "from sklearn.metrics import confusion_matrix, accuracy_score, classification_report, roc_curve, auc, roc_auc_score"
      ],
      "metadata": {
        "id": "-GexxpuZaL2I"
      },
      "execution_count": 3,
      "outputs": []
    },
    {
      "cell_type": "code",
      "source": [
        "y_pred = ann.predict(X_test)\n",
        "y_pred = (y_pred > 0.5)"
      ],
      "metadata": {
        "id": "1aEDIL6GW49Q"
      },
      "execution_count": 4,
      "outputs": []
    },
    {
      "cell_type": "code",
      "source": [
        "print(\"Classification report for classifier %s:\\n%s\\n\" % (\n",
        "    ann, classification_report(y_test, y_pred)))\n"
      ],
      "metadata": {
        "colab": {
          "base_uri": "https://localhost:8080/"
        },
        "id": "syIjCMBdddjZ",
        "outputId": "40f5528b-06ce-4302-cd61-7af171dff528"
      },
      "execution_count": 5,
      "outputs": [
        {
          "output_type": "stream",
          "name": "stdout",
          "text": [
            "Classification report for classifier <keras.engine.sequential.Sequential object at 0x7f8b1e182ad0>:\n",
            "              precision    recall  f1-score   support\n",
            "\n",
            "           0       0.93      0.99      0.96       346\n",
            "           1       0.91      0.55      0.68        53\n",
            "\n",
            "    accuracy                           0.93       399\n",
            "   macro avg       0.92      0.77      0.82       399\n",
            "weighted avg       0.93      0.93      0.92       399\n",
            "\n",
            "\n"
          ]
        }
      ]
    },
    {
      "cell_type": "code",
      "source": [
        "################# Confusion matrix\n",
        "cm = confusion_matrix(y_test, y_pred)\n",
        "print(\"Confusion matrix\")\n",
        "print(cm)\n",
        "\n",
        "################ Accuracy\n",
        "print()\n",
        "print(\"Model accuracy: \", accuracy_score(y_test, y_pred))"
      ],
      "metadata": {
        "colab": {
          "base_uri": "https://localhost:8080/"
        },
        "id": "AVHBVONKdd5-",
        "outputId": "130fdb23-6733-445d-d687-5e49192cc763"
      },
      "execution_count": 6,
      "outputs": [
        {
          "output_type": "stream",
          "name": "stdout",
          "text": [
            "Confusion matrix\n",
            "[[343   3]\n",
            " [ 24  29]]\n",
            "\n",
            "Model accuracy:  0.9323308270676691\n"
          ]
        }
      ]
    },
    {
      "cell_type": "code",
      "source": [
        "################### Loss Curve\n",
        "plt.plot(history.history['loss'])\n",
        "plt.plot(history.history['val_loss'])\n",
        "plt.title('Model loss')\n",
        "plt.ylabel('Loss')\n",
        "plt.xlabel('Epoch')\n",
        "plt.legend(['Training loss', 'Validation loss'], loc='upper right')\n",
        "plt.show()"
      ],
      "metadata": {
        "colab": {
          "base_uri": "https://localhost:8080/",
          "height": 295
        },
        "id": "5f4HR3ycdyBE",
        "outputId": "a3e931b9-2366-494f-b474-ed85f40252e6"
      },
      "execution_count": 7,
      "outputs": [
        {
          "output_type": "display_data",
          "data": {
            "image/png": "[encoded data removed]",
            "text/plain": [
              "<Figure size 432x288 with 1 Axes>"
            ]
          },
          "metadata": {
            "needs_background": "light"
          }
        }
      ]
    },
    {
      "cell_type": "code",
      "source": [
        "################## ROC Curve\n",
        "y_pred = y_pred.ravel()\n",
        "fpr, tpr, _ = roc_curve(y_test,  y_pred)\n",
        "plt.plot(fpr,tpr)\n",
        "auc = roc_auc_score(y_test, y_pred)\n",
        "plt.plot(fpr,tpr,label=\"AUC=\"+str(auc))\n",
        "plt.title('ROC Curve')\n",
        "plt.ylabel('True Positive Rate')\n",
        "plt.xlabel('False Positive Rate')\n",
        "plt.legend(loc=4)\n",
        "plt.show()"
      ],
      "metadata": {
        "colab": {
          "base_uri": "https://localhost:8080/",
          "height": 295
        },
        "id": "avvEiUjxd0b6",
        "outputId": "dddfb2d5-5e3b-40d6-ad9b-e9f1fad2a3d2"
      },
      "execution_count": 8,
      "outputs": [
        {
          "output_type": "display_data",
          "data": {
            "image/png": "[encoded data removed]",
            "text/plain": [
              "<Figure size 432x288 with 1 Axes>"
            ]
          },
          "metadata": {
            "needs_background": "light"
          }
        }
      ]
    },
    {
      "cell_type": "code",
      "source": [
        "import pickle\n",
        "fileName = \"/content/drive/MyDrive/ML_Results_Main/ANN_Numeric_Before.model\"\n",
        "pickle.dump(ann, open(fileName, 'wb'))"
      ],
      "metadata": {
        "colab": {
          "base_uri": "https://localhost:8080/"
        },
        "id": "KWyCN_SiV-xF",
        "outputId": "0ed19cc3-6127-4742-e04b-55955f51b5b8"
      },
      "execution_count": null,
      "outputs": [
        {
          "output_type": "stream",
          "name": "stdout",
          "text": [
            "INFO:tensorflow:Assets written to: ram://a0fdeba1-3b25-48ea-9726-ca88be49237b/assets\n"
          ]
        }
      ]
    }
  ]
}