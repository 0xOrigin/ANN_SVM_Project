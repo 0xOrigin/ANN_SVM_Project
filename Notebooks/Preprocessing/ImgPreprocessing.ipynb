{
  "nbformat": 4,
  "nbformat_minor": 0,
  "metadata": {
    "colab": {
      "name": "ImgPreprocessing.ipynb",
      "provenance": [],
      "collapsed_sections": []
    },
    "kernelspec": {
      "name": "python3",
      "display_name": "Python 3"
    },
    "language_info": {
      "name": "python"
    }
  },
  "cells": [
    {
      "cell_type": "code",
      "execution_count": null,
      "metadata": {
        "id": "XiLWq6hL3-S3",
        "colab": {
          "base_uri": "https://localhost:8080/"
        },
        "outputId": "b17b9e6b-15a0-4d62-e829-22b461e74a8d"
      },
      "outputs": [
        {
          "output_type": "stream",
          "name": "stdout",
          "text": [
            "Drive already mounted at /content/drive; to attempt to forcibly remount, call drive.mount(\"/content/drive\", force_remount=True).\n"
          ]
        }
      ],
      "source": [
        "from google.colab import drive\n",
        "drive.mount(\"/content/drive\")"
      ]
    },
    {
      "cell_type": "code",
      "source": [
        "import numpy as np\n",
        "import matplotlib.pyplot as plt\n",
        "import pandas as pd\n",
        "import glob\n",
        "import cv2\n",
        "import pickle\n",
        "from skimage.feature import hog\n",
        "from skimage.color import rgb2gray\n",
        "from tqdm import tqdm\n",
        "\n",
        "PATH = \"/content/drive/MyDrive/C-NMC_Leukemia\"\n",
        "\n",
        "#add training data\n",
        "train_dataset_0_all = glob.glob(PATH + \"/training_data/fold_0/all/*.bmp\")\n",
        "train_dataset_0_hem = glob.glob(PATH + \"/training_data/fold_0/hem/*.bmp\")\n",
        "train_dataset_1_all = glob.glob(PATH + \"/training_data/fold_1/all/*.bmp\")\n",
        "train_dataset_1_hem = glob.glob(PATH + \"/training_data/fold_1/hem/*.bmp\")\n",
        "train_dataset_2_all = glob.glob(PATH + \"/training_data/fold_2/all/*.bmp\")\n",
        "train_dataset_2_hem = glob.glob(PATH + \"/training_data/fold_2/hem/*.bmp\")\n",
        "# print(len(train_dataset_0_all))\n",
        "\n",
        "#include validation data\n",
        "valid_data=pd.read_csv(PATH + \"/validation_data/C-NMC_test_prelim_phase_data_labels.csv\") #reading csv\n",
        "\n",
        "av = valid_data[valid_data[\"labels\"] == 1] # av-> all validation\n",
        "hv = valid_data[valid_data[\"labels\"] == 0] # hv -> hem validation\n",
        "\n",
        "VAL_PATH = PATH + \"/validation_data/C-NMC_test_prelim_phase_data/\"\n",
        "AVL = [VAL_PATH +  i for i in list(av.new_names)]\n",
        "HVL = [VAL_PATH +  i for i in list(hv.new_names)]\n",
        "\n",
        "#merge training and validation data\n",
        "A = list()\n",
        "H = list()\n",
        "A.extend(train_dataset_0_all)\n",
        "A.extend(train_dataset_1_all)\n",
        "A.extend(train_dataset_2_all)\n",
        "A.extend(AVL)\n",
        "H.extend(train_dataset_0_hem)\n",
        "H.extend(train_dataset_1_hem)\n",
        "H.extend(train_dataset_2_hem)\n",
        "H.extend(HVL)\n",
        "\n",
        "print(\"The number of Acute lymphoblastic leukemia samples: \", len(A))\n",
        "print(\"The number of samples without leukemia :\",len(H))\n",
        "\n",
        "#labling\n",
        "Label_A = [1]*len(A)\n",
        "Label_H = [0]*len(H)\n",
        "Label_A.extend(Label_H)\n",
        "\n",
        "#dataframing\n",
        "A.extend(H)\n",
        "\n",
        "dataset = []"
      ],
      "metadata": {
        "id": "T_oFPztw4LLW",
        "colab": {
          "base_uri": "https://localhost:8080/"
        },
        "outputId": "3e107da3-8215-436a-a576-03b385a064b3"
      },
      "execution_count": null,
      "outputs": [
        {
          "output_type": "stream",
          "name": "stdout",
          "text": [
            "The number of Acute lymphoblastic leukemia samples:  8491\n",
            "The number of samples without leukemia : 4049\n"
          ]
        }
      ]
    },
    {
      "cell_type": "markdown",
      "source": [
        "# **ANN preprocessing functions**"
      ],
      "metadata": {
        "id": "_yGzYSTH7K9z"
      }
    },
    {
      "cell_type": "code",
      "source": [
        "def ANN_img_preprocessing(img):\n",
        "  image = cv2.imread(img)\n",
        "  gray = cv2.cvtColor(image, cv2.COLOR_BGR2GRAY)\n",
        "  resized_gray = cv2.resize(gray, (120,120))\n",
        "  edged_gray = cv2.Canny(resized_gray, 100, 200)\n",
        "  edged_gray = np.array(edged_gray).flatten()\n",
        "  return edged_gray"
      ],
      "metadata": {
        "id": "FDF0ScrL63mx"
      },
      "execution_count": null,
      "outputs": []
    },
    {
      "cell_type": "code",
      "source": [
        "for i in tqdm(range(0,len(A))):\n",
        "    dataset.append(ANN_img_preprocessing(A[i]))"
      ],
      "metadata": {
        "id": "_nlqELlZ7iPX"
      },
      "execution_count": null,
      "outputs": []
    },
    {
      "cell_type": "code",
      "source": [
        "pickle_out = open(\"/content/drive/MyDrive/ML_Results/Preprocessing/X_ANN_Img_Pre.pickle\",\"wb\")\n",
        "pickle.dump(dataset, pickle_out)\n",
        "pickle_out.close()\n",
        "\n",
        "pickle_out = open(\"/content/drive/MyDrive/ML_Results/Preprocessing/Y_ANN_Img_Pre.pickle\",\"wb\")\n",
        "pickle.dump(Label_A, pickle_out)\n",
        "pickle_out.close()"
      ],
      "metadata": {
        "id": "uLsrJC7F7vLU"
      },
      "execution_count": null,
      "outputs": []
    },
    {
      "cell_type": "markdown",
      "source": [
        "# **SVM preprocessing functions**"
      ],
      "metadata": {
        "id": "qWBfqFh576GP"
      }
    },
    {
      "cell_type": "code",
      "source": [
        "def SVM_img_preprocessing(img):\n",
        "  image = cv2.imread(img)\n",
        "  gray = rgb2gray(image)\n",
        "  resized_gray = cv2.resize(gray, (400,400))\n",
        "  hog_features = hog(resized_gray,block_norm='L2-Hys',pixels_per_cell=(16,16))\n",
        "  features = np.array(hog_features).flatten()\n",
        "  return features"
      ],
      "metadata": {
        "id": "T0gEx4c27_e9"
      },
      "execution_count": null,
      "outputs": []
    },
    {
      "cell_type": "code",
      "source": [
        "for i in tqdm(range(0,len(A))):\n",
        "    dataset.append(SVM_img_preprocessing(A[i]))"
      ],
      "metadata": {
        "id": "1z_1Uk5o8dWS",
        "colab": {
          "base_uri": "https://localhost:8080/"
        },
        "outputId": "da107325-0979-414f-f634-5a0682266f88"
      },
      "execution_count": null,
      "outputs": [
        {
          "output_type": "stream",
          "name": "stderr",
          "text": [
            "100%|██████████| 12540/12540 [10:08<00:00, 20.61it/s]\n"
          ]
        }
      ]
    },
    {
      "cell_type": "code",
      "source": [
        "pickle_out = open(\"/content/drive/MyDrive/ML_Results_Main/X_SVM_Img_Pre.pickle\",\"wb\")\n",
        "pickle.dump(dataset, pickle_out)\n",
        "pickle_out.close()\n",
        "\n",
        "pickle_out = open(\"/content/drive/MyDrive/ML_Results_Main/Preprocessing/Y_SVM_Img_Pre.pickle\",\"wb\")\n",
        "pickle.dump(Label_A, pickle_out)\n",
        "pickle_out.close()"
      ],
      "metadata": {
        "id": "7GulREQU8pob"
      },
      "execution_count": null,
      "outputs": []
    }
  ]
}